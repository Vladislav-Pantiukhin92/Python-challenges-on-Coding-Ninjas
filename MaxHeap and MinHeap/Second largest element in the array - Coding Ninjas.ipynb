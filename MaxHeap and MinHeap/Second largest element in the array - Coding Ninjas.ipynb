{
 "cells": [
  {
   "cell_type": "markdown",
   "id": "0160da9c",
   "metadata": {},
   "source": [
    "### Second largest element in the array - Coding Ninjas."
   ]
  },
  {
   "cell_type": "code",
   "execution_count": 11,
   "id": "d0046cdb",
   "metadata": {},
   "outputs": [
    {
     "data": {
      "text/plain": [
       "6"
      ]
     },
     "execution_count": 11,
     "metadata": {},
     "output_type": "execute_result"
    }
   ],
   "source": [
    "\"\"\"\n",
    "You have been given an array/list 'ARR' of integers. Your task is to find the second largest element present in the 'ARR'.\n",
    "Note:\n",
    "a) Duplicate elements may be present.\n",
    "\n",
    "b) If no such element is present return -1.\n",
    "Example:\n",
    "Input: Given a sequence of five numbers 2, 4, 5, 6, 8.\n",
    "\n",
    "Output:  6\n",
    "\n",
    "Explanation:\n",
    "In the given sequence of numbers, number 8 is the largest element, followed by number 6 which is the second-largest element. Hence we return number 6 which is the second-largest element in the sequence.\n",
    "\n",
    "\"\"\"\n",
    "\n",
    "from sys import stdin\n",
    "import sys\n",
    "\n",
    "# To extract the second largest element we are going to implement the relevant data structure - the maxHeap,\n",
    "# where the first element is always the largest one.\n",
    "\n",
    "def findSecondLargest(sequenceOfNumbers):\n",
    "# For starters, let's remove all the duplicates from the given input list, using the set structure:\n",
    "    my_array = list(set(sequenceOfNumbers)) \n",
    "    if len(my_array) < 2: # If the obtained list without duplicates contains 0 elements or just 1 element - \n",
    "        # the second largest element doesn't exist within the given input array, so we return -1\n",
    "        return -1\n",
    "    def maxHeapify(array, n, i): # The function, aimed at creating the maxHeap structure:\n",
    "    # Parent nodes are always larger than their child nodes.\n",
    "    # If the above-mentioned order is disrupted - we execute the swapping procedure.\n",
    "        index = i\n",
    "        left = index * 2 + 1 # Left nodes are found\n",
    "        right = index * 2 + 2 # Right nodes are found\n",
    "        largest = index\n",
    "        # Below is the way to find the maxElement:\n",
    "        if left < n and array[largest] < array[left]:\n",
    "            largest = left\n",
    "        if right < n and array[largest] < array[right]:\n",
    "            largest = right \n",
    "        if largest != index:\n",
    "            # The necessary swapping procedure:\n",
    "            array[index], array[largest] = array[largest], array[index]\n",
    "            maxHeapify(array, n, largest)\n",
    "    # Below is the 'for loop', which creates the full-fledged maxHeap structure:\n",
    "    for i in range(len(my_array) - 1, -1, -1):\n",
    "        maxHeapify(my_array, len(my_array), i)\n",
    "    # In view of the fact that we need the second largest element, we will use the 'for loop' with just two \n",
    "    # iterations:\n",
    "    for _ in range(2):\n",
    "        my_array[0], my_array[-1] = my_array[-1], my_array[0]\n",
    "        curElement = my_array.pop()\n",
    "        maxHeapify(my_array, len(my_array), 0)\n",
    "    return curElement # During the final second iteration, the second largest element is obtained and returned\n",
    "\n",
    "\n",
    "findSecondLargest([2,4,5,6,8])"
   ]
  }
 ],
 "metadata": {
  "kernelspec": {
   "display_name": "Python 3 (ipykernel)",
   "language": "python",
   "name": "python3"
  },
  "language_info": {
   "codemirror_mode": {
    "name": "ipython",
    "version": 3
   },
   "file_extension": ".py",
   "mimetype": "text/x-python",
   "name": "python",
   "nbconvert_exporter": "python",
   "pygments_lexer": "ipython3",
   "version": "3.9.7"
  }
 },
 "nbformat": 4,
 "nbformat_minor": 5
}
