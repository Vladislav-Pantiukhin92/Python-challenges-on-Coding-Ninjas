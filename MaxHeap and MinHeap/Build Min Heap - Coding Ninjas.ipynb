{
 "cells": [
  {
   "cell_type": "markdown",
   "id": "6ed46377",
   "metadata": {},
   "source": [
    "### Build Min Heap - Coding Ninjas."
   ]
  },
  {
   "cell_type": "code",
   "execution_count": null,
   "id": "bc9bf270",
   "metadata": {},
   "outputs": [],
   "source": [
    "\"\"\"\n",
    "You are given an array 'ARR' of integers having 'N' elements. Your task is to convert the input array \n",
    "into a min-Binary Heap.\n",
    "A min-Binary heap is a complete binary tree in which the value of each internal node is smaller than or \n",
    "equal to the values of the children of that node.\n",
    "Note :\n",
    "1. Input array follows 0 - based indexing.\n",
    "\n",
    "2. After constructing the min-heap, the Left child of the 'i-th' node should be present at the \n",
    "(2*i + 1)-th index if it exists.\n",
    "\n",
    "3. After constructing the min-heap, the Right child of the 'i-th' node should be present at the \n",
    "(2*i + 2)-th index if it exists.\n",
    "\n",
    "4. Note that you do not need to create a tree, just update the array.\n",
    "\"\"\"\n",
    "\n",
    "def buildMinHeap(arr):\n",
    "    def minHeapify(array, n, i): # It is the function, aimed at creating the minHeap structure\n",
    "# The minHeap structure is a data structure, where parent nodes are always smaller than their child nodes\n",
    "        index = i\n",
    "        left = index * 2 + 1 # Identification of the left child nodes\n",
    "        right = index * 2 + 2 # Identification of the right child nodes\n",
    "        smallest = index\n",
    "# If the parent nodes are larger than their child nodes, we need to implement the swapping procedure:\n",
    "        if left < n and array[smallest] > array[left]:\n",
    "            smallest = left \n",
    "        if right < n and array[smallest] > array[right]:\n",
    "            smallest = right \n",
    "        if index != smallest:\n",
    "            array[index], array[smallest] = array[smallest], array[index]\n",
    "            minHeapify(array, n, smallest)\n",
    "    for i in range(len(arr) - 1, -1, -1): # Within the 'for loop', while iterating over each element of the \n",
    "        # given input list, we use the above-underlined function to create the minHeap structure\n",
    "        minHeapify(arr, len(arr), i)\n",
    "    return arr # The minHeap structure is returned"
   ]
  }
 ],
 "metadata": {
  "kernelspec": {
   "display_name": "Python 3 (ipykernel)",
   "language": "python",
   "name": "python3"
  },
  "language_info": {
   "codemirror_mode": {
    "name": "ipython",
    "version": 3
   },
   "file_extension": ".py",
   "mimetype": "text/x-python",
   "name": "python",
   "nbconvert_exporter": "python",
   "pygments_lexer": "ipython3",
   "version": "3.9.7"
  }
 },
 "nbformat": 4,
 "nbformat_minor": 5
}
