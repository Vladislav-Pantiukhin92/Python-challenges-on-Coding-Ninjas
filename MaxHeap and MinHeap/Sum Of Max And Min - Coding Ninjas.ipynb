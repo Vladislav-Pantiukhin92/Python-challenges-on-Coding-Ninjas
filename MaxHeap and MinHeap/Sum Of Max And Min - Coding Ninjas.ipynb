{
 "cells": [
  {
   "cell_type": "markdown",
   "id": "324d65ac",
   "metadata": {},
   "source": [
    "### Sum Of Max And Min - Coding Ninjas."
   ]
  },
  {
   "cell_type": "code",
   "execution_count": 1,
   "id": "ec699d41",
   "metadata": {},
   "outputs": [
    {
     "data": {
      "text/plain": [
       "5"
      ]
     },
     "execution_count": 1,
     "metadata": {},
     "output_type": "execute_result"
    }
   ],
   "source": [
    "from operator import * # 'operator.add' will sum all elements (the minElement and the maxElement)\n",
    "\n",
    "def sumOfMaxMin(arr):\n",
    "    if len(arr) == 1: # If the given input list contains only 1 element - we return the sum of the element \n",
    "        # and its duplicate\n",
    "        return add(arr[0], arr[0])\n",
    "# To find the minElement and the maxElement we are going to use two functions, aimed at creating the special \n",
    "# heap structure:\n",
    "    def maxHeapify(array, n, i): # The function, aimed at creating the maxHeap, where the first element is the \n",
    "        # maxElement\n",
    "    # Within the maxHeap structure, the parent nodes are always larger than their child nodes:\n",
    "    # If such a discrepancy takes place - we are going to execute the swapping procedure:\n",
    "        index = i\n",
    "        left = index * 2 + 1\n",
    "        right = index * 2 + 2\n",
    "        largest = index \n",
    "        if left < n and array[largest] < array[left]:\n",
    "            largest = left \n",
    "        if right < n and array[largest] < array[right]:\n",
    "            largest = right \n",
    "        if largest != index:\n",
    "            array[index], array[largest] = array[largest], array[index]\n",
    "            maxHeapify(array, n, largest)\n",
    "    def minHeapify(array, n, i): # The function, aimed at creating the minHeap, where the first element is the \n",
    "        # minElement\n",
    "    # Within the minHeap structure, the parent nodes are always smaller than their child nodes:\n",
    "    # If such a discrepancy takes place - we are going to execute the swapping procedure:\n",
    "        index = i\n",
    "        left = index * 2 + 1\n",
    "        right = index * 2 + 2\n",
    "        smallest = index \n",
    "        if left < n and array[smallest] > array[left]:\n",
    "            smallest = left \n",
    "        if right < n and array[smallest] > array[right]:\n",
    "            smallest = right \n",
    "        if smallest != index:\n",
    "            array[index], array[smallest] = array[smallest], array[index]\n",
    "            minHeapify(array, n, smallest)\n",
    "    for i in range(len(arr) - 1, -1, -1): # First of all, we need to create the maxHeap structure and extract \n",
    "        # the maxElement\n",
    "        maxHeapify(arr, len(arr), i)\n",
    "    maxElement = arr.pop(0) # The maxElement is popped\n",
    "    for j in range(len(arr) - 1, -1, -1): # Secondly, we need to create the minHeap structure and extract the minElement\n",
    "        minHeapify(arr, len(arr), j)\n",
    "    minElement = arr.pop(0) # The minElement is popped\n",
    "    return add(maxElement, minElement) # We are going to return the sum of the maxElement and the minElement\n",
    "\n",
    "sumOfMaxMin([-1,-4,5,8,9,3])"
   ]
  }
 ],
 "metadata": {
  "kernelspec": {
   "display_name": "Python 3 (ipykernel)",
   "language": "python",
   "name": "python3"
  },
  "language_info": {
   "codemirror_mode": {
    "name": "ipython",
    "version": 3
   },
   "file_extension": ".py",
   "mimetype": "text/x-python",
   "name": "python",
   "nbconvert_exporter": "python",
   "pygments_lexer": "ipython3",
   "version": "3.9.7"
  }
 },
 "nbformat": 4,
 "nbformat_minor": 5
}
