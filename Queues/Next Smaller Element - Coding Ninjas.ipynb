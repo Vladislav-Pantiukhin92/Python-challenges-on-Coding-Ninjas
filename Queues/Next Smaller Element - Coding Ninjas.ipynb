{
 "cells": [
  {
   "cell_type": "markdown",
   "id": "e1dd3d91",
   "metadata": {},
   "source": [
    "### Next Smaller Element - Coding Ninjas."
   ]
  },
  {
   "cell_type": "code",
   "execution_count": 42,
   "id": "fe9a7f3a",
   "metadata": {},
   "outputs": [
    {
     "data": {
      "text/plain": [
       "[1, 1, -1]"
      ]
     },
     "execution_count": 42,
     "metadata": {},
     "output_type": "execute_result"
    }
   ],
   "source": [
    "\"\"\"\n",
    "Next Smaller Element. You are given an array 'ARR' of integers of length N. Your task is to find the next \n",
    "smaller element for each of the array elements.\n",
    "\"\"\"\n",
    "\n",
    "def nextSmallerElement(arr, n):\n",
    "    myStack = [] # The list container/stack structure\n",
    "    final = [None for _ in range(len(arr))] # The list, which will store all the next smaller elements. Such \n",
    "    # a list is initially filled with None values\n",
    "    while arr:\n",
    "        curElem = arr.pop(0) # The first element is popped\n",
    "        if not myStack: # If the stack structure is empty - we just add an element and move on\n",
    "            myStack.append(curElem)\n",
    "        else:\n",
    "            myStack.append(curElem) # If the stack structure is not initially empty - we add an element anyway \n",
    "            # and launch the iteration comparison, while the next smaller element is not found!\n",
    "            for i in range(len(myStack)):\n",
    "                if myStack[i] > curElem and final[i] is None:\n",
    "                    final[i] = curElem # If the next smaller element is found and the corresponding index location \n",
    "                    # is not a None value - we add an element\n",
    "    # If, following all the operations, there are still None values in the final list, these None values are \n",
    "    # replaced with -1\n",
    "    for i in range(len(final)):\n",
    "        if final[i] is None:\n",
    "            final[i] = -1\n",
    "    return final # The final list is returned\n",
    "\n",
    "nextSmallerElement([2,3,1], 3)"
   ]
  }
 ],
 "metadata": {
  "kernelspec": {
   "display_name": "Python 3 (ipykernel)",
   "language": "python",
   "name": "python3"
  },
  "language_info": {
   "codemirror_mode": {
    "name": "ipython",
    "version": 3
   },
   "file_extension": ".py",
   "mimetype": "text/x-python",
   "name": "python",
   "nbconvert_exporter": "python",
   "pygments_lexer": "ipython3",
   "version": "3.9.7"
  }
 },
 "nbformat": 4,
 "nbformat_minor": 5
}
