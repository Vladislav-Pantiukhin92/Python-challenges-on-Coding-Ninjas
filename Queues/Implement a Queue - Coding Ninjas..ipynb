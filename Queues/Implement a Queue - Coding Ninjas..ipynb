{
 "cells": [
  {
   "cell_type": "markdown",
   "id": "7e992959",
   "metadata": {},
   "source": [
    "### Implement a Queue - Coding Ninjas."
   ]
  },
  {
   "cell_type": "code",
   "execution_count": null,
   "id": "2b68a726",
   "metadata": {},
   "outputs": [],
   "source": [
    "\"\"\"\n",
    "Implement a Queue Data Structure specifically to store integer data using a Singly Linked List or an array.\n",
    "You need to implement the following public functions :\n",
    "1. Constructor: It initializes the data members as required.\n",
    "2. enqueue(data): This function should take one argument of type integer. It enqueues the element into \n",
    "the queue.\n",
    "3. dequeue(): It dequeues/removes the element from the front of the queue and in turn, returns the element \n",
    "being dequeued or removed. In case the queue is empty, it returns -1.\n",
    "4. front(): It returns the element being kept at the front of the queue. In case the queue is empty, \n",
    "it returns -1.\n",
    "5. isEmpty(): It returns a boolean value indicating whether the queue is empty or not.\n",
    "\"\"\"\n",
    "\n",
    "class Queue :\n",
    "    def __init__(self): # Constructor\n",
    "        self.myQueue = [] # The queue structure is a list\n",
    "        self.size = 0 # The initial size of the queue structure is 0\n",
    "        \n",
    "    def isEmpty(self): # The function, aimed at inspecting the content of the queue\n",
    "        if self.size == 0: # If the size is 0 - we return True, because the queue is empty\n",
    "            return True\n",
    "        return False # Otherwise, we return False\n",
    "\n",
    "    def enqueue(self, data): # The function, aimed at appending an element to the queue\n",
    "        self.myQueue.append(data)\n",
    "        self.size += 1 # The size is increased by 1\n",
    "\n",
    "    def dequeue(self): # The function, aimed at popping the first element of the queue\n",
    "        if self.size == 0: # If the size is 0 - we return -1\n",
    "            return -1\n",
    "        # Otherwise, the first element is popped\n",
    "        curElem = self.myQueue.pop(0) \n",
    "        self.size -= 1 # The size is reduced by 1\n",
    "        return curElem # The popped element is returned\n",
    "        \n",
    "    def front(self): # The function, aimed at showing the front element\n",
    "        if self.size == 0: # If the queue is empty - there is nothing to show - we return -1\n",
    "            return -1\n",
    "        return self.myQueue[0] # Otherwise, we return the first element"
   ]
  }
 ],
 "metadata": {
  "kernelspec": {
   "display_name": "Python 3 (ipykernel)",
   "language": "python",
   "name": "python3"
  },
  "language_info": {
   "codemirror_mode": {
    "name": "ipython",
    "version": 3
   },
   "file_extension": ".py",
   "mimetype": "text/x-python",
   "name": "python",
   "nbconvert_exporter": "python",
   "pygments_lexer": "ipython3",
   "version": "3.9.7"
  }
 },
 "nbformat": 4,
 "nbformat_minor": 5
}
