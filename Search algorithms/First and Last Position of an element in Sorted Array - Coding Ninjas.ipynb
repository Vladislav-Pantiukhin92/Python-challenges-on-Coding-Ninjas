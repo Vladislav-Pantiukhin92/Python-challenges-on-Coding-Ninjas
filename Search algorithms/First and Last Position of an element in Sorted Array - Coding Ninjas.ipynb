{
 "cells": [
  {
   "cell_type": "markdown",
   "id": "806942c2",
   "metadata": {},
   "source": [
    "### First and Last Position of an element in Sorted Array - Coding Ninjas."
   ]
  },
  {
   "cell_type": "code",
   "execution_count": 26,
   "id": "eadf4f88",
   "metadata": {},
   "outputs": [
    {
     "data": {
      "text/plain": [
       "[1, 2]"
      ]
     },
     "execution_count": 26,
     "metadata": {},
     "output_type": "execute_result"
    }
   ],
   "source": [
    "\"\"\"\n",
    "You have been given a sorted array/list ARR consisting of ‘N’ elements. You are also given an integer ‘X’.\n",
    "Now, your task is to find the first and last occurrence of ‘X’ in ARR.\n",
    "Note :\n",
    "1. If ‘X’ is not present in the array, then the first and the last occurrence will be -1. \n",
    "2. ARR may contain duplicate elements.\n",
    "For example, if ARR = [0, 1, 1, 5] and K = 1, then the first and last occurrence of 1 will be 1\n",
    "(0 - indexed) and 2.\n",
    "\"\"\"\n",
    "\n",
    "# We will identify the index position of the given input element, using the Jump Search algorithm:\n",
    "\n",
    "from math import * # The 'math' module will be used to execute the 'sqrt' function\n",
    "\n",
    "def findFirstLastPosition(arr, n, x):\n",
    "    def jump_search(array, target): # The function, aimed at finding the position of the target element:\n",
    "        length = len(array) # The length of the position\n",
    "        step = int(sqrt(length)) # The step\n",
    "        prev = 0\n",
    "        # This way we are going to determine the relevant slice, within which the given input element can \n",
    "        # be located:\n",
    "        while array[int(min(step, length) - 1)] < x:\n",
    "            prev = step \n",
    "            step += int(sqrt(length))\n",
    "            if prev >= length: # The case, when the given input element doesn't exist within the given input list\n",
    "                return None\n",
    "        # Here we picked out the relevant slice, now it is high time to find the index location itself:\n",
    "        while array[prev] < x:\n",
    "            prev += 1\n",
    "            if prev == min(step, length):\n",
    "                return None # The case, when the given input element doesn't exist within the given input list\n",
    "        if array[prev] == x:\n",
    "            return prev # The index location is found\n",
    "        return None # The case, when the given input element doesn't exist within the given input list\n",
    "    indexLoc = jump_search(arr, x)\n",
    "    if indexLoc is None: # Again the case, when the given input element doesn't exist within the given input list\n",
    "        return [-1, -1]\n",
    "    if arr.count(x) < 2: # If the given input list doesn't contain duplicates - we return the list with the one \n",
    "        # index location, repeated twice:\n",
    "        return [indexLoc, indexLoc]\n",
    "    else:\n",
    "        # Otherwise, we need to utilize two pointers for identifying the first and the last position (these two \n",
    "        # pointers will move in opposite directions)\n",
    "        final = [] # The list container, which will store the first and the last position of the given input element\n",
    "        i = indexLoc\n",
    "        j = indexLoc\n",
    "        # These positions are to be stored within the list container\n",
    "        while i >= 0 and arr[i] == x:\n",
    "            i -= 1\n",
    "        final.append(i + 1)\n",
    "        while j < len(arr) and arr[j] == x:\n",
    "            j += 1\n",
    "        final.append(j - 1)\n",
    "    return final # The list with positions is returned\n",
    "\n",
    "findFirstLastPosition([0,1,1,5], 4, 1)"
   ]
  }
 ],
 "metadata": {
  "kernelspec": {
   "display_name": "Python 3 (ipykernel)",
   "language": "python",
   "name": "python3"
  },
  "language_info": {
   "codemirror_mode": {
    "name": "ipython",
    "version": 3
   },
   "file_extension": ".py",
   "mimetype": "text/x-python",
   "name": "python",
   "nbconvert_exporter": "python",
   "pygments_lexer": "ipython3",
   "version": "3.9.7"
  }
 },
 "nbformat": 4,
 "nbformat_minor": 5
}
