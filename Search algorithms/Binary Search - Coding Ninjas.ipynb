{
 "cells": [
  {
   "cell_type": "markdown",
   "id": "2f2e1629",
   "metadata": {},
   "source": [
    "### Binary Search - Coding Ninjas."
   ]
  },
  {
   "cell_type": "code",
   "execution_count": null,
   "id": "b461b90b",
   "metadata": {},
   "outputs": [],
   "source": [
    "\"\"\"\n",
    "Write a function to search this element in the given input array/list using 'Binary Search'. \n",
    "Return the index of the element in the input array/list. \n",
    "\"\"\"\n",
    "\n",
    "from sys import stdin\n",
    "\n",
    "def binarySearch(arr, n, x): # The iterative approach of the Binary Search algorithm\n",
    "    low = 0 # The initial low border\n",
    "    high = n - 1 # The initial high border\n",
    "    mid = (low + high) // 2 # The middle index\n",
    "    while low <= high and arr[mid] != x:\n",
    "        if x > arr[mid]: # The case, when the target value is larger than the middle element\n",
    "            low = mid + 1 # The low border is updated\n",
    "        else: # The case, when the target value is smaller than the middle element\n",
    "            high = mid - 1 # The high border is updated\n",
    "        mid = (low + high) // 2 # The middle location is updated\n",
    "    if low > high: # If the low border and the high border are overlapped - we return -1, the target value \n",
    "        # doesn't exist within the given input array\n",
    "        return -1\n",
    "    else:\n",
    "        return mid # Alternatively, we return the relevant index location of the target number"
   ]
  }
 ],
 "metadata": {
  "kernelspec": {
   "display_name": "Python 3 (ipykernel)",
   "language": "python",
   "name": "python3"
  },
  "language_info": {
   "codemirror_mode": {
    "name": "ipython",
    "version": 3
   },
   "file_extension": ".py",
   "mimetype": "text/x-python",
   "name": "python",
   "nbconvert_exporter": "python",
   "pygments_lexer": "ipython3",
   "version": "3.9.7"
  }
 },
 "nbformat": 4,
 "nbformat_minor": 5
}
