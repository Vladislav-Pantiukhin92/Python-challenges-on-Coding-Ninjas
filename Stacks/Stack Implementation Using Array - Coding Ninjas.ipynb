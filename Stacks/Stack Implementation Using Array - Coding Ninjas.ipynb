{
 "cells": [
  {
   "cell_type": "markdown",
   "id": "d7cda4f9",
   "metadata": {},
   "source": [
    "### Stack Implementation Using Array - Coding Ninjas."
   ]
  },
  {
   "cell_type": "code",
   "execution_count": null,
   "id": "fa5d4c70",
   "metadata": {},
   "outputs": [],
   "source": [
    "\"\"\"\n",
    "Stack is a data structure that follows the LIFO (Last in First out) principle. Design and implement \n",
    "a stack to implement the following functions:\n",
    "1. Push(num): Push the given number in the stack if the stack is not full.\n",
    "2. Pop: Remove and print the top element from the stack if present, else print -1.\n",
    "3. Top: Print the top element of the stack if present, else print -1.\n",
    "4. isEmpty: Print 1 if the stack is empty, else print 0.\n",
    "5. isFull: Print 1 if the stack is full, else print 0.\n",
    "You have been given ‘M’ operations which you need to perform in the stack. Your task is to implement \n",
    "all the functions of the stack.\n",
    "\"\"\"\n",
    "\n",
    "from queue import LifoQueue # The in-built Python module is to be used to implement the LIFO-structure\n",
    "\n",
    "class Stack:\n",
    "    \n",
    "    def __init__(self, capacity: int): # Constructor\n",
    "        self.myStack = LifoQueue()\n",
    "        self.capacity = capacity\n",
    "\n",
    "    def push(self, num: int) -> None: # The method, aimed at appending an element to the rear of the stack structure\n",
    "        if self.capacity != 0: # We need to append only if the capacity != 0\n",
    "            self.myStack.put(num)\n",
    "            self.capacity -= 1 # Following the operation, the current capacity is reduced by 1\n",
    "\n",
    "    def pop(self) -> int: # The method, aimed at popping the last element of the stack structure\n",
    "        if not self.myStack.empty(): # We need to pop elements only if the stack structure contains elements\n",
    "            curElem = self.myStack.get()\n",
    "            self.capacity += 1 # Following the operation, the current capacity is increased by 1\n",
    "            return curElem\n",
    "        return -1 # If the stack structure is empty - we return -1\n",
    "    \n",
    "    def top(self) -> int: # The method, aimed at showing the top element of the stack structure\n",
    "        if not self.myStack.empty():\n",
    "            curElem = self.myStack.queue[-1] # The last element of the stack structure is shown\n",
    "            return curElem\n",
    "        return -1 # If the stack structure is empty - we return -1\n",
    "    \n",
    "    def isEmpty(self) -> int:\n",
    "        if self.myStack.empty(): # If the stack is empty - we return 1, if it still contains elements - we \n",
    "            # return 0\n",
    "            return 1\n",
    "        return 0\n",
    "    \n",
    "    def isFull(self) -> int:\n",
    "        if self.capacity == 0: # If the stack is full - we return 1\n",
    "            return 1\n",
    "        return 0 # Otherwise, we return 0"
   ]
  }
 ],
 "metadata": {
  "kernelspec": {
   "display_name": "Python 3 (ipykernel)",
   "language": "python",
   "name": "python3"
  },
  "language_info": {
   "codemirror_mode": {
    "name": "ipython",
    "version": 3
   },
   "file_extension": ".py",
   "mimetype": "text/x-python",
   "name": "python",
   "nbconvert_exporter": "python",
   "pygments_lexer": "ipython3",
   "version": "3.9.7"
  }
 },
 "nbformat": 4,
 "nbformat_minor": 5
}
