{
 "cells": [
  {
   "cell_type": "markdown",
   "id": "0160da9c",
   "metadata": {},
   "source": [
    "### Find Duplicates In Array - Coding Ninjas."
   ]
  },
  {
   "cell_type": "code",
   "execution_count": 9,
   "id": "7720f717",
   "metadata": {},
   "outputs": [
    {
     "data": {
      "text/plain": [
       "[1, 2, 3]"
      ]
     },
     "execution_count": 9,
     "metadata": {},
     "output_type": "execute_result"
    }
   ],
   "source": [
    "\"\"\"\n",
    "You are given an array of integers 'ARR' containing N elements. Each integer is in the range [1, N-1], \n",
    "with exactly one element repeated in the array. Some of the elements may be repeated in 'ARR'.\n",
    "Your task is to find the duplicate element.\n",
    "\"\"\"\n",
    "\n",
    "from itertools import groupby # \"itertools.groupby\" will help to identify the duplicates through the\n",
    "# 'key-group' structure (where the 'key' is the element, and the 'group' is the list of its duplicates)\n",
    "\n",
    "def findDuplicates(arr, n):\n",
    "# To use the 'itertools.groupby' it is necessary to sort the array (for instance, in ascending order):\n",
    "# Let's use the Quick Sort algorithm to sort the given input array in ascending order:\n",
    "    def quickSort(array): # The Quick Sort algorithm function:\n",
    "        if len(array) < 2: # If the given input array contains 0 elements or 1 element - it is unnecessary \n",
    "            # to sort it, so we return the original given input array without changes\n",
    "            return array\n",
    "    # If the given input array contains over 1 element, then we find the pivot element (for example, \n",
    "    # it is the first element):\n",
    "        pivot = array[0] # The pivot element\n",
    "        # After that, we generate (through the list comprehension) three lists:\n",
    "        smaller = [i for i in array if i < pivot] # The list with elements, which are smaller than the pivot element\n",
    "        equal = [i for i in array if i == pivot] # The list with elements, which are equal to the pivot element\n",
    "        greater = [i for i in array if i > pivot] # The list with elements, which are larger than the pivot element\n",
    "        return quickSort(smaller) + equal + quickSort(greater) # The recursive approach\n",
    "    sort_arr = quickSort(arr) # We obtain the sorted array\n",
    "    final = [] # It is an empty list container, which will store keys with duplicates\n",
    "    for key, group in groupby(sort_arr): # The 'key' is an element, the 'group' is the list of its duplicates\n",
    "        duplicates = list(group)\n",
    "        if len(duplicates) > 1: # If the list contains over 1 element, the key element is appended to the rear \n",
    "            # of the list container\n",
    "            final.append(key)\n",
    "    return final # The list with elements, which have duplicates within the given input array, is returned\n",
    "\n",
    "findDuplicates([3,2,1,3,2,1,5], 7)"
   ]
  }
 ],
 "metadata": {
  "kernelspec": {
   "display_name": "Python 3 (ipykernel)",
   "language": "python",
   "name": "python3"
  },
  "language_info": {
   "codemirror_mode": {
    "name": "ipython",
    "version": 3
   },
   "file_extension": ".py",
   "mimetype": "text/x-python",
   "name": "python",
   "nbconvert_exporter": "python",
   "pygments_lexer": "ipython3",
   "version": "3.9.7"
  }
 },
 "nbformat": 4,
 "nbformat_minor": 5
}
