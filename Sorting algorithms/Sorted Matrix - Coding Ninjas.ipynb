{
 "cells": [
  {
   "cell_type": "markdown",
   "id": "993ecdd0",
   "metadata": {},
   "source": [
    "### Sorted Matrix - Coding Ninjas."
   ]
  },
  {
   "cell_type": "code",
   "execution_count": 15,
   "id": "1d4c1759",
   "metadata": {},
   "outputs": [
    {
     "data": {
      "text/plain": [
       "[10, 15, 20, 20, 27, 29, 30, 32, 33, 35, 37, 38, 40, 42, 46, 49]"
      ]
     },
     "execution_count": 15,
     "metadata": {},
     "output_type": "execute_result"
    }
   ],
   "source": [
    "\"\"\"\n",
    "You are given an N x N matrix 'MAT' of positive integers, where every row and column is sorted in \n",
    "non-decreasing order.\n",
    "Your task is to return a list containing all elements of the matrix in sorted order.\n",
    "For example :\n",
    "If the matrix is:\n",
    "\n",
    "10 20 30 40\n",
    "15 20 35 42\n",
    "27 29 37 46\n",
    "32 33 38 49\n",
    "\n",
    "The output will be the elements of matrix in sorted order:\n",
    "10 15 20 20 27 29 30 32 33 35 37 38 40 42 46 49\n",
    "Follow Up:\n",
    "Can you solve this in O((N ^ 2) * log(N)) time and O(N) space complexity?\n",
    "\"\"\"\n",
    "matrix = [[10,20,30,40],\n",
    "[15,20,35,42],\n",
    "[27,29,37,46],\n",
    "[32,33,38,49]]\n",
    "\n",
    "\n",
    "from itertools import chain # We need to use the 'itertools.chain' in order to flatten the matrix\n",
    "\n",
    "def sortedMatrix(mat, n):\n",
    "    my_list = list(chain.from_iterable(mat)) # Let's flatten the matrix, we need to obtain the 1-D array\n",
    "    if n == 1: # If 'n' equals to 1 - we return the list without changes\n",
    "        return my_list\n",
    "    # We are going to use the Quick Sort algorithm to sort the array in ascending order:\n",
    "    def find_pivot(array, start, end): # The function, aimed at finding the pertinent location of the pivot \n",
    "        # element\n",
    "        pivot = array[start] # The initial location of the pivot element is index [0]\n",
    "        # We need to define two pointers as well:\n",
    "        left = start + 1\n",
    "        right = end\n",
    "        while True:\n",
    "            # An element, attached to the left pointer, should always be smaller than the pivot element\n",
    "            while left <= right and array[left] < pivot:\n",
    "                left += 1\n",
    "            # An element, attached to the right pointer, should always be larger or equal to the pivot element\n",
    "            while left <= right and array[right] >= pivot:\n",
    "                right -= 1\n",
    "            if left > right:\n",
    "                break \n",
    "            else:\n",
    "                # If the above-mentioned requirements are violated - we should swap these elements\n",
    "                array[left], array[right] = array[right], array[left]\n",
    "        array[start], array[right] = array[right], array[start]\n",
    "        return right # The right index is returned\n",
    "    def quick_sort(array, start, end): # The function, aimed at sorting the given input array, using the \n",
    "        # recursion:\n",
    "        if start >= end:\n",
    "            return \n",
    "        else:\n",
    "            p = find_pivot(array, start, end) # Here we determine the pertinent location of the pivot element\n",
    "            quick_sort(array, start, p - 1)\n",
    "            quick_sort(array, p + 1, end)\n",
    "        return array \n",
    "    result = quick_sort(my_list, 0, len(my_list) - 1)\n",
    "    return result # The sorted array is finally returned\n",
    "\n",
    "sortedMatrix(matrix, 4)\n",
    "\n"
   ]
  }
 ],
 "metadata": {
  "kernelspec": {
   "display_name": "Python 3 (ipykernel)",
   "language": "python",
   "name": "python3"
  },
  "language_info": {
   "codemirror_mode": {
    "name": "ipython",
    "version": 3
   },
   "file_extension": ".py",
   "mimetype": "text/x-python",
   "name": "python",
   "nbconvert_exporter": "python",
   "pygments_lexer": "ipython3",
   "version": "3.9.7"
  }
 },
 "nbformat": 4,
 "nbformat_minor": 5
}
