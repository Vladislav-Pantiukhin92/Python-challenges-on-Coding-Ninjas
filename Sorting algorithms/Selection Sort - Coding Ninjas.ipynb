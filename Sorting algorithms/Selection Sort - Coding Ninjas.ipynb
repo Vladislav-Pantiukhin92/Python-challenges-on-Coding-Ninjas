{
 "cells": [
  {
   "cell_type": "markdown",
   "id": "0160da9c",
   "metadata": {},
   "source": [
    "### Selection Sort - Coding Ninjas."
   ]
  },
  {
   "cell_type": "code",
   "execution_count": 7,
   "id": "c0fb5967",
   "metadata": {},
   "outputs": [
    {
     "data": {
      "text/plain": [
       "[13, 29, 36, 51, 52, 66, 72, 87, 98]"
      ]
     },
     "execution_count": 7,
     "metadata": {},
     "output_type": "execute_result"
    }
   ],
   "source": [
    "\"\"\"\n",
    "Selection sort is one of the sorting algorithms that works by repeatedly finding the minimum element \n",
    "from the unsorted part of the array and putting it at the beginning of the unsorted region of the array.\n",
    "You are given an unsorted array consisting of N non-negative integers. Your task is to sort the array \n",
    "in non-decreasing order using the Selection Sort algorithm.\n",
    "\"\"\"\n",
    "\n",
    "# Let's implement the Selection Sort (in ascending order):\n",
    "# The major idea behind the Selection Sort is that during each iteration we need to place the minElement at \n",
    "# the beginning of the given input list (and subsequently shifting the pointer forward)\n",
    "\n",
    "def selectionSort(arr,n):\n",
    "    for i in range(n - 1):\n",
    "        minIndex = i # Initially the minElement (the minIndex) is appointed\n",
    "        for j in range(i + 1, n):\n",
    "            if arr[minIndex] > arr[j]: # In case of necessity, the minElement (the minIndex) can be updated\n",
    "                minIndex = j\n",
    "        # Following each iteration, the minElement is placed at the beginning of the given input list (with \n",
    "        # the subsequent shift of the relevant pointer forward)\n",
    "        arr[i], arr[minIndex] = arr[minIndex], arr[i]\n",
    "    return arr # The sorted array is returned\n",
    "\n",
    "selectionSort([29,72,98,13,87,66,52,51,36],9)"
   ]
  }
 ],
 "metadata": {
  "kernelspec": {
   "display_name": "Python 3 (ipykernel)",
   "language": "python",
   "name": "python3"
  },
  "language_info": {
   "codemirror_mode": {
    "name": "ipython",
    "version": 3
   },
   "file_extension": ".py",
   "mimetype": "text/x-python",
   "name": "python",
   "nbconvert_exporter": "python",
   "pygments_lexer": "ipython3",
   "version": "3.9.7"
  }
 },
 "nbformat": 4,
 "nbformat_minor": 5
}
