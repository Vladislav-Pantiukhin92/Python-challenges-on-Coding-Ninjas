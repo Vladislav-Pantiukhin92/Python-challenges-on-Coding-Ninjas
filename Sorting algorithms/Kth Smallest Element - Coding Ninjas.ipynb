{
 "cells": [
  {
   "cell_type": "markdown",
   "id": "5d8eb566",
   "metadata": {},
   "source": [
    "### Kth Smallest Element - Coding Ninjas."
   ]
  },
  {
   "cell_type": "code",
   "execution_count": 16,
   "id": "f6ef9d28",
   "metadata": {},
   "outputs": [
    {
     "data": {
      "text/plain": [
       "4"
      ]
     },
     "execution_count": 16,
     "metadata": {},
     "output_type": "execute_result"
    }
   ],
   "source": [
    "\"\"\"\n",
    "You are given an array/list ‘ARR’ consisting of ‘N’ non - negative integers and an integer ‘K’. \n",
    "Your task is to return the K-th smallest element of the array.\n",
    "For example :-\n",
    "Given an array/list ‘ARR' = [ 3, 2, 4, 5, 6 ] and 'K' = 3. The 3rd smallest element is \"4\" because the \n",
    "order of numbers is [ 2, 3, 4, 5, 6 ].\n",
    "\"\"\"\n",
    "\n",
    "# It is easy to solve the problem if the given input array is sorted in ascending order in advance.\n",
    "# Resultantly, the pertinent return result is the given input sorted array[k - 1].\n",
    "\n",
    "# Let's sort the given input array, using the Quick Sort recursive algorithm, which will comprise two major \n",
    "# functions:\n",
    "\n",
    "def kthSmallest(arr, k):\n",
    "    def find_pivot(array, start, end): # The function, aimed at finding the pertinent location of the pivot \n",
    "        # element\n",
    "        pivot = array[start] # The initial location of the pivot element is index [0]\n",
    "        left = start + 1 # The first (left) pointer\n",
    "        right = end # The second (right) pointer\n",
    "        while True:\n",
    "        # The left pointer element should always be smaller than the pivot element\n",
    "            while left <= right and array[left] < pivot:\n",
    "                left += 1\n",
    "        # The right pointer element should always be equal to or larger than the pivot element\n",
    "            while left <= right and array[right] >= pivot:\n",
    "                right -= 1\n",
    "            if left > right:\n",
    "                break\n",
    "            else:\n",
    "            # If the above-mentioned requirements are violated - we use the swapping procedure\n",
    "                array[left], array[right] = array[right], array[left]\n",
    "        array[start], array[right] = array[right], array[start]\n",
    "        return right # The right index is finally returned\n",
    "    def quick_sort(array, start, end): # The function, aimed at sorting the given input array, utilizing the \n",
    "        # 'find_pivot' function\n",
    "        if start >= end: # If the given input array contains 0 elements or just 1 element - we return it without \n",
    "            # changes\n",
    "            return array \n",
    "        else:\n",
    "            # Recursive approach\n",
    "            p = find_pivot(array, start, end)\n",
    "            quick_sort(array, start, p - 1)\n",
    "            quick_sort(array, p + 1, end)\n",
    "        return array\n",
    "    sorted_arr = quick_sort(arr, 0, len(arr) - 1) # The sorted array is obtained\n",
    "    return sorted_arr[k - 1] # We return the corresponding element\n",
    "        \n",
    "kthSmallest([3,2,4,5,6], 3)"
   ]
  }
 ],
 "metadata": {
  "kernelspec": {
   "display_name": "Python 3 (ipykernel)",
   "language": "python",
   "name": "python3"
  },
  "language_info": {
   "codemirror_mode": {
    "name": "ipython",
    "version": 3
   },
   "file_extension": ".py",
   "mimetype": "text/x-python",
   "name": "python",
   "nbconvert_exporter": "python",
   "pygments_lexer": "ipython3",
   "version": "3.9.7"
  }
 },
 "nbformat": 4,
 "nbformat_minor": 5
}
