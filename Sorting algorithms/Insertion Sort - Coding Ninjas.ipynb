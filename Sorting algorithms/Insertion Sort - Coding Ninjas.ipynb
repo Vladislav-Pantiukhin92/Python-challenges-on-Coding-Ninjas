{
 "cells": [
  {
   "cell_type": "markdown",
   "id": "0160da9c",
   "metadata": {},
   "source": [
    "### Insertion Sort - Coding Ninjas."
   ]
  },
  {
   "cell_type": "code",
   "execution_count": null,
   "id": "cf9aaabe",
   "metadata": {},
   "outputs": [],
   "source": [
    "\"\"\"\n",
    "You are given ‘N’ integers in the form of an array ‘ARR’. Print the sorted array using the insertion sort.\n",
    "Note :\n",
    "No need to return anything. You should sort the array in-place.\n",
    "For Example :\n",
    "Let ‘ARR’ be: [1, 4, 2]\n",
    "The sorted array will be: [1, 2, 4].\n",
    "\"\"\"\n",
    "\n",
    "from typing import List\n",
    "\n",
    "# Implementation of the Insertion Sort algorithm.\n",
    "# The overriding idea behind the Insertion Sort algorithm: the given input array is split into two subarrays.\n",
    "# The first subarray initially contains only 1 element (the first one). The second subarray contains\n",
    "# all other elements. During iterations we need to take elements (one-by-one) from the second subarray and \n",
    "# insert them at the relevant location within the first subarray.\n",
    "\n",
    "def insertionSort(n: int, arr: List[int]) -> None:\n",
    "    for i in range(1, n):\n",
    "        j = i # The element is taken from the second subarray\n",
    "        # Within the 'while loop' operation, the element is inserted at the relevant location within the \n",
    "        # first subarray:\n",
    "        while j > 0 and arr[j] < arr[j - 1]:\n",
    "            arr[j - 1], arr[j] = arr[j], arr[j - 1]\n",
    "            j -= 1\n",
    "            \n",
    "# Finally we obtained the sorted array, but we are not going to return anything!"
   ]
  }
 ],
 "metadata": {
  "kernelspec": {
   "display_name": "Python 3 (ipykernel)",
   "language": "python",
   "name": "python3"
  },
  "language_info": {
   "codemirror_mode": {
    "name": "ipython",
    "version": 3
   },
   "file_extension": ".py",
   "mimetype": "text/x-python",
   "name": "python",
   "nbconvert_exporter": "python",
   "pygments_lexer": "ipython3",
   "version": "3.9.7"
  }
 },
 "nbformat": 4,
 "nbformat_minor": 5
}
