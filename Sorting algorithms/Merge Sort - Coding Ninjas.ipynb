{
 "cells": [
  {
   "cell_type": "markdown",
   "id": "0160da9c",
   "metadata": {},
   "source": [
    "### Merge Sort - Coding Ninjas."
   ]
  },
  {
   "cell_type": "code",
   "execution_count": 10,
   "id": "b1017074",
   "metadata": {},
   "outputs": [
    {
     "data": {
      "text/plain": [
       "[1, 2, 3, 4, 5, 6, 7, 8]"
      ]
     },
     "execution_count": 10,
     "metadata": {},
     "output_type": "execute_result"
    }
   ],
   "source": [
    "\"\"\"\n",
    "Given a sequence of numbers ‘ARR’. Your task is to return a sorted sequence of ‘ARR’ in non-descending \n",
    "order with help of the merge sort algorithm.\n",
    "Example :\n",
    "Merge Sort Algorithm -\n",
    "Merge sort is a Divide and Conquer based Algorithm. It divides the input array into two-parts, \n",
    "until the size of the input array is not ‘1’. In the return part, it will merge two sorted arrays a \n",
    "return a whole merged sorted array.\n",
    "\"\"\"\n",
    "\n",
    "def mergeSort(arr, n): # The function, aimed at dividing array into two subarrays. These subarrays are to \n",
    "    # be sorted separately\n",
    "    if len(arr) < 2: # If the given input array contains 0 elements or just 1 element, it is unnecessary to \n",
    "        # sort it. So we return the original given input array without changes\n",
    "        return arr\n",
    "    length = n # The length of the given input array\n",
    "    middle = length // 2 # The middle location of the given input array \n",
    "    left = arr[:middle] # The left subarray \n",
    "    right = arr[middle:] # The right subarray\n",
    "    # These two subarrays are sorted separately:\n",
    "    left = mergeSort(left, len(left))\n",
    "    right = mergeSort(right, len(right))\n",
    "    return merge(left, right)\n",
    "\n",
    "def merge(array1, array2): # The function, aimed at merging two sorted arrays together\n",
    "    i = 0 # The pointer for the first sorted array\n",
    "    j = 0 # The pointer for the second sorted array\n",
    "    final = [] # The list container, which will store elements. The list is to be finally returned.\n",
    "    # Using these two pointers, each time we are going to pick out the minElement from the two sorted \n",
    "    # subarrays and append it to the list container:\n",
    "    while i < len(array1) and j < len(array2):\n",
    "        if array1[i] > array2[j]:\n",
    "            final.append(array2[j])\n",
    "            j += 1\n",
    "        else:\n",
    "            final.append(array1[i])\n",
    "            i += 1\n",
    "            \n",
    "    while i < len(array1):\n",
    "        final.append(array1[i])\n",
    "        i += 1\n",
    "    while j < len(array2):\n",
    "        final.append(array2[j])\n",
    "        j += 1\n",
    "    return final # The sorted array is returned\n",
    "\n",
    "mergeSort([8,3,4,6,1,5,7,2], 8)"
   ]
  }
 ],
 "metadata": {
  "kernelspec": {
   "display_name": "Python 3 (ipykernel)",
   "language": "python",
   "name": "python3"
  },
  "language_info": {
   "codemirror_mode": {
    "name": "ipython",
    "version": 3
   },
   "file_extension": ".py",
   "mimetype": "text/x-python",
   "name": "python",
   "nbconvert_exporter": "python",
   "pygments_lexer": "ipython3",
   "version": "3.9.7"
  }
 },
 "nbformat": 4,
 "nbformat_minor": 5
}
