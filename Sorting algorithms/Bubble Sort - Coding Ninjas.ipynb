{
 "cells": [
  {
   "cell_type": "markdown",
   "id": "0160da9c",
   "metadata": {},
   "source": [
    "### Bubble Sort - Coding Ninjas."
   ]
  },
  {
   "cell_type": "code",
   "execution_count": 8,
   "id": "074b88b1",
   "metadata": {},
   "outputs": [
    {
     "data": {
      "text/plain": [
       "[2, 4, 6, 8, 10]"
      ]
     },
     "execution_count": 8,
     "metadata": {},
     "output_type": "execute_result"
    }
   ],
   "source": [
    "\"\"\"\n",
    "Bubble Sort is one of the sorting algorithms that works by repeatedly swapping the adjacent elements of \n",
    "the array if they are not in sorted order. You are given an unsorted array consisting of N non-negative \n",
    "integers. Your task is to sort the array in non-decreasing order using the Bubble Sort algorithm.\n",
    "\"\"\"\n",
    "\n",
    "# Let's implement the Bubble Sort algorithm (in ascending order):\n",
    "# The main idea of the Bubble Sort algorithm is to simply swap adjacent elements, if an element [j] > an element [j + 1]\n",
    "# In other words, the swapping procedure is necessary if the next number is smaller than the previous number:\n",
    "\n",
    "def bubbleSort(arr,n):\n",
    "    for i in range(n):\n",
    "        for j in range(n - i - 1):\n",
    "            if arr[j] > arr[j + 1]: # In case of necessity, two adjacent elements are swapped (if the ascending \n",
    "                # order is disrupted):\n",
    "                temp = arr[j]\n",
    "                arr[j] = arr[j + 1]\n",
    "                arr[j + 1] = temp \n",
    "    return arr # The sorted array is returned\n",
    "\n",
    "bubbleSort([6,2,8,4,10],5)"
   ]
  }
 ],
 "metadata": {
  "kernelspec": {
   "display_name": "Python 3 (ipykernel)",
   "language": "python",
   "name": "python3"
  },
  "language_info": {
   "codemirror_mode": {
    "name": "ipython",
    "version": 3
   },
   "file_extension": ".py",
   "mimetype": "text/x-python",
   "name": "python",
   "nbconvert_exporter": "python",
   "pygments_lexer": "ipython3",
   "version": "3.9.7"
  }
 },
 "nbformat": 4,
 "nbformat_minor": 5
}
