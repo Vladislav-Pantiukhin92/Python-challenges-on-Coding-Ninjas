{
 "cells": [
  {
   "cell_type": "markdown",
   "id": "443601f9",
   "metadata": {},
   "source": [
    "### All Prime Numbers less than or equal to N - Coding Ninjas."
   ]
  },
  {
   "cell_type": "code",
   "execution_count": 3,
   "id": "adf5822a",
   "metadata": {},
   "outputs": [
    {
     "data": {
      "text/plain": [
       "[2, 3, 5, 7]"
      ]
     },
     "execution_count": 3,
     "metadata": {},
     "output_type": "execute_result"
    }
   ],
   "source": [
    "\"\"\"\n",
    "You are given a positive integer 'N'. Your task is to return all the prime numbers less than or equal to the 'N'.\n",
    "Note:\n",
    "1) A prime number is a number that has only two factors: 1 and the number itself.\n",
    "2) 1 is not a prime number.\n",
    "\"\"\"\n",
    "\n",
    "# To find the key solution, let's use the algorithm 'The Sieve of Eratosthenes' to identify all the prime numbers\n",
    "\n",
    "def findAllPrimes(n):\n",
    "    final = [] # It is the list container, which will store all the prime numbers\n",
    "    array = [True] * (n + 1) # It is the array with True values, which will be the so-called \"sieve\"\n",
    "    for i in range(2, n + 1):\n",
    "        if array[i]:\n",
    "            final.append(i)\n",
    "            # Below is the 'for loop', which will filter out numbers:\n",
    "            for j in range(i ** 2, n + 1, i):\n",
    "                array[j] = False\n",
    "    return final # The list with prime numbers is returned\n",
    "\n",
    "findAllPrimes(8)"
   ]
  }
 ],
 "metadata": {
  "kernelspec": {
   "display_name": "Python 3 (ipykernel)",
   "language": "python",
   "name": "python3"
  },
  "language_info": {
   "codemirror_mode": {
    "name": "ipython",
    "version": 3
   },
   "file_extension": ".py",
   "mimetype": "text/x-python",
   "name": "python",
   "nbconvert_exporter": "python",
   "pygments_lexer": "ipython3",
   "version": "3.9.7"
  }
 },
 "nbformat": 4,
 "nbformat_minor": 5
}
