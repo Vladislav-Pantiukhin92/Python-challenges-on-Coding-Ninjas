{
 "cells": [
  {
   "cell_type": "markdown",
   "id": "8ab45305",
   "metadata": {},
   "source": [
    "### Find prime numbers - Coding Ninjas."
   ]
  },
  {
   "cell_type": "code",
   "execution_count": 2,
   "id": "0c3ca8d0",
   "metadata": {},
   "outputs": [
    {
     "name": "stdout",
     "output_type": "stream",
     "text": [
      "[2, 3, 5, 7, 11, 13, 17, 19, 23, 29, 31, 37, 41, 43, 47, 53, 59, 61, 67, 71, 73, 79, 83, 89, 97]\n"
     ]
    }
   ],
   "source": [
    "\"\"\"\n",
    "You are given a positive integer ‘N’. Your task is to print all prime numbers less than or equal to N.\n",
    "Note: A prime number is a natural number that is divisible only by 1 and itself. Example - 2, 3, 17, etc.\n",
    "You can assume that the value of N will always be greater than 1. So, the answer will always exist.\n",
    "Input Format:\n",
    "The input contains a single positive integer ‘N’.\n",
    "\"\"\"\n",
    "\n",
    "import sys\n",
    "sys.setrecursionlimit(10**7)\n",
    "\n",
    "# To find the key solution, let's use the algorithm 'The Sieve of Eratosthenes' to identify all the prime numbers\n",
    "\n",
    "def primeNumbersTillN(N):\n",
    "    final = [] # It is the list container, which will store all the prime numbers\n",
    "    array = [True] * (N + 1) # It is the array with True values, which will be the so-called \"sieve\"\n",
    "    for i in range(2, N + 1):\n",
    "        if array[i]:\n",
    "            final.append(i)\n",
    "            # Below is the 'for loop', which will filter out numbers:\n",
    "            for j in range(i ** 2, N + 1, i):\n",
    "                array[j] = False\n",
    "    return final # The list with prime numbers is returned\n",
    "\n",
    "print(primeNumbersTillN(100))"
   ]
  }
 ],
 "metadata": {
  "kernelspec": {
   "display_name": "Python 3 (ipykernel)",
   "language": "python",
   "name": "python3"
  },
  "language_info": {
   "codemirror_mode": {
    "name": "ipython",
    "version": 3
   },
   "file_extension": ".py",
   "mimetype": "text/x-python",
   "name": "python",
   "nbconvert_exporter": "python",
   "pygments_lexer": "ipython3",
   "version": "3.9.7"
  }
 },
 "nbformat": 4,
 "nbformat_minor": 5
}
