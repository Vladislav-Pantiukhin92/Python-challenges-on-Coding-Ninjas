{
 "cells": [
  {
   "cell_type": "markdown",
   "id": "eef59f55",
   "metadata": {},
   "source": [
    "### Single Element in a Sorted Array - Coding Ninjas."
   ]
  },
  {
   "cell_type": "code",
   "execution_count": 18,
   "id": "f6c49b06",
   "metadata": {},
   "outputs": [
    {
     "data": {
      "text/plain": [
       "5"
      ]
     },
     "execution_count": 18,
     "metadata": {},
     "output_type": "execute_result"
    }
   ],
   "source": [
    "\"\"\"\n",
    "Nobita wants to impress Shizuka by guessing her lucky number.\n",
    "Shizuka gave Nobita a sorted list of ‘N’ numbers such that every number occurred twice in the list except \n",
    "Shizuka’s lucky number which appears only once.\n",
    "Nobita asked Doraemon to help him but Doraemon doesn’t have a gadget that can find Shizuka’s lucky number.\n",
    "So, Doraemon called you to find Shizuka’s lucky number. The fate of Nobita lies in your hand.\n",
    "Note :\n",
    "1. Shizuka’s lucky number will surely be present.\n",
    "2. There will only be a single lucky number.\n",
    "\"\"\"\n",
    "\n",
    "from collections import Counter # To find the single number it is relevant to use the 'collections.Counter'\n",
    "\n",
    "def uniqueElement(arr, n):\n",
    "# Let's create the occurrence dictionary through the use of the 'collections.Counter':\n",
    "    myDict = dict(Counter(arr))\n",
    "    for i in myDict:\n",
    "    # We should return the key, if the corresponding value equals to 1\n",
    "        if myDict[i] == 1:\n",
    "            return i # The key with the corresponding value == 1 is returned\n",
    "        \n",
    "uniqueElement([2,2,4,4,5,7,7], 7)"
   ]
  }
 ],
 "metadata": {
  "kernelspec": {
   "display_name": "Python 3 (ipykernel)",
   "language": "python",
   "name": "python3"
  },
  "language_info": {
   "codemirror_mode": {
    "name": "ipython",
    "version": 3
   },
   "file_extension": ".py",
   "mimetype": "text/x-python",
   "name": "python",
   "nbconvert_exporter": "python",
   "pygments_lexer": "ipython3",
   "version": "3.9.7"
  }
 },
 "nbformat": 4,
 "nbformat_minor": 5
}
