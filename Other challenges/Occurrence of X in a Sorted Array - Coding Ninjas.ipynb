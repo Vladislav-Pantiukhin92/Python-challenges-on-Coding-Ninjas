{
 "cells": [
  {
   "cell_type": "markdown",
   "id": "2f2e1629",
   "metadata": {},
   "source": [
    "### Occurrence of X in a Sorted Array - Coding Ninjas."
   ]
  },
  {
   "cell_type": "code",
   "execution_count": null,
   "id": "d308c89f",
   "metadata": {},
   "outputs": [],
   "source": [
    "from sys import stdin\n",
    "from collections import Counter # 'collections.Counter' will be used to create the dictionary, aimed at \n",
    "# counting the occurrence of elements within the given input list\n",
    "\n",
    "def countOccurences(arr, n, k):\n",
    "    myDict = dict(Counter(arr)) # The occurrence dictionary is created\n",
    "    if k in myDict: # When the dictionary is created, we are going to return the corresponding value of the \n",
    "        # key (the target element within the given input list)\n",
    "        return myDict[k]\n",
    "    return 0 # If the key doesn't exist within the dictionary - we return 0 (no occurrences within the \n",
    "# given input list)"
   ]
  }
 ],
 "metadata": {
  "kernelspec": {
   "display_name": "Python 3 (ipykernel)",
   "language": "python",
   "name": "python3"
  },
  "language_info": {
   "codemirror_mode": {
    "name": "ipython",
    "version": 3
   },
   "file_extension": ".py",
   "mimetype": "text/x-python",
   "name": "python",
   "nbconvert_exporter": "python",
   "pygments_lexer": "ipython3",
   "version": "3.9.7"
  }
 },
 "nbformat": 4,
 "nbformat_minor": 5
}
