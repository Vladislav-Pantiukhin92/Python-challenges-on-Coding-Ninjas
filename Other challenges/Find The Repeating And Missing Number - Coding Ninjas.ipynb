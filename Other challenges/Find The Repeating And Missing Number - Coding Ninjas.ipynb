{
 "cells": [
  {
   "cell_type": "markdown",
   "id": "3ad00182",
   "metadata": {},
   "source": [
    "### Find The Repeating And Missing Number - Coding Ninjas."
   ]
  },
  {
   "cell_type": "code",
   "execution_count": 5,
   "id": "44924685",
   "metadata": {},
   "outputs": [
    {
     "data": {
      "text/plain": [
       "[4, 6]"
      ]
     },
     "execution_count": 5,
     "metadata": {},
     "output_type": "execute_result"
    }
   ],
   "source": [
    "\"\"\"\n",
    "You are given an array 'nums' consisting of first N positive integers. But from the N integers, \n",
    "one of the integers occurs twice in the array, and one of the integers is missing. You need to determine \n",
    "the repeating and the missing integer.\n",
    "Example:\n",
    "Let the array be [1, 2, 3, 4, 4, 5]. In the given array ‘4’ occurs twice and the number ‘6’ is missing.\n",
    "\"\"\"\n",
    "\n",
    "from collections import Counter # 'collections.Counter' will be used to identify a duplicate of the number\n",
    "\n",
    "def findRepeatingAndMissingNumbers(nums):\n",
    "    nums = sorted(nums) # To make the problem easier we are going to sort the array in ascending order\n",
    "    myDict = dict(Counter(nums)) # The dictionary is created\n",
    "    for i in myDict: # Through the use of the 'for loop' iterations, the specific duplicate is found\n",
    "        if myDict[i] == 2:\n",
    "            repeating = i # It is the repeating number (let's remember it!)\n",
    "            break \n",
    "    nums.remove(i) # The duplicate is removed from the given input list\n",
    "    j = 0\n",
    "    number = 1\n",
    "    missing = None\n",
    "    # The next step is to find the missing number:\n",
    "    while j < len(nums):\n",
    "        if nums[j] != number: # If the value doesn't equal to the ideal count of numbers from 1 to N\n",
    "            missing = number\n",
    "            break\n",
    "        j += 1\n",
    "        number += 1\n",
    "    if missing is None: # The case, when the missing number is the last element within the sorted given \n",
    "        # input list + 1\n",
    "        missing = nums[-1] + 1\n",
    "    return [repeating, missing] # The list with the repeating number and the missing number is returned\n",
    "\n",
    "findRepeatingAndMissingNumbers([1, 2, 3, 4, 4, 5])"
   ]
  }
 ],
 "metadata": {
  "kernelspec": {
   "display_name": "Python 3 (ipykernel)",
   "language": "python",
   "name": "python3"
  },
  "language_info": {
   "codemirror_mode": {
    "name": "ipython",
    "version": 3
   },
   "file_extension": ".py",
   "mimetype": "text/x-python",
   "name": "python",
   "nbconvert_exporter": "python",
   "pygments_lexer": "ipython3",
   "version": "3.9.7"
  }
 },
 "nbformat": 4,
 "nbformat_minor": 5
}
