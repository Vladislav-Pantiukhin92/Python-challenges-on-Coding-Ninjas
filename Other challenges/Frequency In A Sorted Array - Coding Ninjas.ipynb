{
 "cells": [
  {
   "cell_type": "markdown",
   "id": "0160da9c",
   "metadata": {},
   "source": [
    "### Frequency In A Sorted Array - Coding Ninjas."
   ]
  },
  {
   "cell_type": "code",
   "execution_count": 6,
   "id": "faa674f0",
   "metadata": {},
   "outputs": [
    {
     "data": {
      "text/plain": [
       "4"
      ]
     },
     "execution_count": 6,
     "metadata": {},
     "output_type": "execute_result"
    }
   ],
   "source": [
    "\"\"\"\n",
    "You are given a sorted array 'ARR' and a number 'X'. Your task is to count the number of \n",
    "occurrences of 'X' in 'ARR'.\n",
    "Note :\n",
    "1. If 'X' is not found in the array, return 0.\n",
    "2. The given array is sorted in non-decreasing order.\n",
    "\"\"\"\n",
    "\n",
    "from itertools import groupby # 'itertools.groupby' will be used to identify the number of target elements\n",
    "\n",
    "def countOccurrences(arr, x):\n",
    "    for key, group in groupby(arr):\n",
    "        if key == x: # If the key element is the given input element, then, we need to return the length with \n",
    "            # regard to the list of duplicates\n",
    "            targetList = list(group) # The list of duplicates is identified\n",
    "            return len(targetList) # The length of the list of duplicates is returned\n",
    "    return 0 # If the key element is not found - we return 0 (because the key element wasn't encountered)\n",
    "\n",
    "countOccurrences([1,1,2,2,2,2,3], 2)"
   ]
  }
 ],
 "metadata": {
  "kernelspec": {
   "display_name": "Python 3 (ipykernel)",
   "language": "python",
   "name": "python3"
  },
  "language_info": {
   "codemirror_mode": {
    "name": "ipython",
    "version": 3
   },
   "file_extension": ".py",
   "mimetype": "text/x-python",
   "name": "python",
   "nbconvert_exporter": "python",
   "pygments_lexer": "ipython3",
   "version": "3.9.7"
  }
 },
 "nbformat": 4,
 "nbformat_minor": 5
}
