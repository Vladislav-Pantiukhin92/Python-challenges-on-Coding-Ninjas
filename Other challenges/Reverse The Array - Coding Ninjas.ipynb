{
 "cells": [
  {
   "cell_type": "markdown",
   "id": "cbf65f9b",
   "metadata": {},
   "source": [
    "### Reverse The Array - Coding Ninjas."
   ]
  },
  {
   "cell_type": "code",
   "execution_count": 2,
   "id": "70f2c6ee",
   "metadata": {},
   "outputs": [
    {
     "data": {
      "text/plain": [
       "[1, 2, 3, 4, 6, 5]"
      ]
     },
     "execution_count": 2,
     "metadata": {},
     "output_type": "execute_result"
    }
   ],
   "source": [
    "\"\"\"\n",
    "Given an array/list 'ARR' of integers and a position ‘M’. You have to reverse the array after that position.\n",
    "Example:\n",
    "We have an array ARR = {1, 2, 3, 4, 5, 6} and M = 3 , considering 0 \n",
    "based indexing so the subarray {5, 6} will be reversed and our \n",
    "output array will be {1, 2, 3, 4, 6, 5}.\n",
    "\"\"\"\n",
    "\n",
    "from itertools import islice # 'itertools.islice' will be used to extract the specific slice of the given \n",
    "# input array \n",
    "from itertools import chain # 'itertools.chain' will be used to merge two arrays together\n",
    "\n",
    "def reverseArray(arr, m):\n",
    "    original_arr = list(islice(arr, 0, m + 1)) # It is the slice, which will remain without changes\n",
    "    reversed_arr = list(islice(arr, m + 1, len(arr)))[::-1] # It is the slice, which will be reversed\n",
    "    return list(chain(original_arr, reversed_arr)) # The original slice and the reversed slice are merged \n",
    "# together, and finally the new array will be returned\n",
    "\n",
    "reverseArray({1, 2, 3, 4, 5, 6}, 3)"
   ]
  }
 ],
 "metadata": {
  "kernelspec": {
   "display_name": "Python 3 (ipykernel)",
   "language": "python",
   "name": "python3"
  },
  "language_info": {
   "codemirror_mode": {
    "name": "ipython",
    "version": 3
   },
   "file_extension": ".py",
   "mimetype": "text/x-python",
   "name": "python",
   "nbconvert_exporter": "python",
   "pygments_lexer": "ipython3",
   "version": "3.9.7"
  }
 },
 "nbformat": 4,
 "nbformat_minor": 5
}
