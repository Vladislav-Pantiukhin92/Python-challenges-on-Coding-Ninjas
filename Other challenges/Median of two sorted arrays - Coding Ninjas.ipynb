{
 "cells": [
  {
   "cell_type": "markdown",
   "id": "87bba863",
   "metadata": {},
   "source": [
    "### Median of two sorted arrays - Coding Ninjas."
   ]
  },
  {
   "cell_type": "code",
   "execution_count": 4,
   "id": "47f000d0",
   "metadata": {},
   "outputs": [
    {
     "data": {
      "text/plain": [
       "4.5"
      ]
     },
     "execution_count": 4,
     "metadata": {},
     "output_type": "execute_result"
    }
   ],
   "source": [
    "\"\"\"\n",
    "You are given two sorted arrays 'A' & 'B' of sizes 'N' & 'M'. You need to find the median of the \n",
    "two arrays when merged. If the total number of elements i.e., N + M is even then the median will be \n",
    "the mean of two medians.\n",
    "Example:\n",
    "Let array A = { 2, 4, 6, 8 } and array B = { 1, 3, 5, 7 }. \n",
    "The array after merging A and B will be { 1, 2, 3, 4, 5, 6, 7, 8 }.\n",
    "Here two medians are 4 & 5. So the median will be a mean of 4 & 5, which is 4.5.\n",
    "\"\"\"\n",
    "\n",
    "from statistics import median as mn # We are going to use the 'statistics' module to calculate the median\n",
    "# value of the merged sorted array\n",
    "\n",
    "def median(a, b):\n",
    "    def merge(array1, array2): # The function, aimed at merging two sorted arrays together\n",
    "        i = 0 # The pointer for the first sorted array\n",
    "        j = 0 # The pointer for the second sorted array\n",
    "        final = [] # The list container, which will store elements from two sorted arrays in ascending order\n",
    "        # Below is the MergeSort algorithm:\n",
    "        while i < len(array1) and j < len(array2):\n",
    "            if array1[i] > array2[j]:\n",
    "                final.append(array2[j])\n",
    "                j += 1\n",
    "            else:\n",
    "                final.append(array1[i])\n",
    "                i += 1\n",
    "        while i < len(array1):\n",
    "            final.append(array1[i])\n",
    "            i += 1\n",
    "        while j < len(array2):\n",
    "            final.append(array2[j])\n",
    "            j += 1\n",
    "        return final\n",
    "    sorted_array = merge(a, b) # Resultantly, the merged sorted array is obtained\n",
    "    return float(mn(sorted_array)) # We need to return the median value from the merged sorted array\n",
    "\n",
    "median([2, 4, 6, 8], [1, 3, 5, 7])"
   ]
  }
 ],
 "metadata": {
  "kernelspec": {
   "display_name": "Python 3 (ipykernel)",
   "language": "python",
   "name": "python3"
  },
  "language_info": {
   "codemirror_mode": {
    "name": "ipython",
    "version": 3
   },
   "file_extension": ".py",
   "mimetype": "text/x-python",
   "name": "python",
   "nbconvert_exporter": "python",
   "pygments_lexer": "ipython3",
   "version": "3.9.7"
  }
 },
 "nbformat": 4,
 "nbformat_minor": 5
}
