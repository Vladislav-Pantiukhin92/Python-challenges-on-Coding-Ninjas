{
 "cells": [
  {
   "cell_type": "markdown",
   "id": "0160da9c",
   "metadata": {},
   "source": [
    "### Swap Two Numbers - Coding Ninjas."
   ]
  },
  {
   "cell_type": "code",
   "execution_count": 13,
   "id": "9f79cd82",
   "metadata": {},
   "outputs": [
    {
     "data": {
      "text/plain": [
       "[2, 1]"
      ]
     },
     "execution_count": 13,
     "metadata": {},
     "output_type": "execute_result"
    }
   ],
   "source": [
    "\"\"\"\n",
    "Take two numbers as input and swap them and print the swapped values.\n",
    "\"\"\"\n",
    "\n",
    "def swap(a, b): # The standard swapping procedure is simple: a, b = b, a\n",
    "    a, b = b, a\n",
    "    return [a, b] # The result as a list with these swapped elements is finally returned\n",
    "swap(1,2)"
   ]
  }
 ],
 "metadata": {
  "kernelspec": {
   "display_name": "Python 3 (ipykernel)",
   "language": "python",
   "name": "python3"
  },
  "language_info": {
   "codemirror_mode": {
    "name": "ipython",
    "version": 3
   },
   "file_extension": ".py",
   "mimetype": "text/x-python",
   "name": "python",
   "nbconvert_exporter": "python",
   "pygments_lexer": "ipython3",
   "version": "3.9.7"
  }
 },
 "nbformat": 4,
 "nbformat_minor": 5
}
