{
 "cells": [
  {
   "cell_type": "markdown",
   "id": "ac048e93",
   "metadata": {},
   "source": [
    "### Check If Linked List Is Palindrome - Coding Ninjas."
   ]
  },
  {
   "cell_type": "code",
   "execution_count": null,
   "id": "cc35d137",
   "metadata": {},
   "outputs": [],
   "source": [
    "\"\"\"\n",
    "You are given a Singly Linked List of integers. You have to find if the given linked list is palindrome or not.\n",
    "A List is a palindrome if it reads the same from the left to the right and from the right to the left.\n",
    "For example, the lists (1 -> 2 -> 1), (3 -> 4 -> 4-> 3), and (1) are palindromes, while the lists \n",
    "(1 -> 2 -> 3) and (3 -> 4) are not.\n",
    "\"\"\"\n",
    "\n",
    "# List Node Class\n",
    "class Node:\n",
    "    def __init__(self, data):\n",
    "        self.data = data\n",
    "        self.next = None\n",
    "\n",
    "\n",
    "def isPalindrome(head):\n",
    "    if head is None: # If the Singly Linked List is empty - we return True (None value is a palindrome by default)\n",
    "        return True\n",
    "    values = [] # It is the list, which will store values of nodes within the Singly Linked List\n",
    "    current = head\n",
    "    while current: # During the traversal, we are going to extract all the nodes' values\n",
    "        curValue = current.data\n",
    "        values.append(curValue)\n",
    "        current = current.next\n",
    "    def verify_pal(array): # It is the function, aimed at finding out the longest palindromic sequence (its length)\n",
    "        maxLength = 0 # The initial length is 0\n",
    "        for i in range(len(array)): # The case for odd-numbered palindromic sequences\n",
    "            l, r = i, i # We are going to use two pointers, which will move in opposite directions\n",
    "            while l >= 0 and r < len(array) and array[l] == array[r]:\n",
    "                if (r - l) + 1 > maxLength: # The maxLength is to be constantly updated\n",
    "                    maxLength = (r - l) + 1\n",
    "                l -= 1\n",
    "                r += 1\n",
    "        for i in range(len(array)): # The case for even-numbered palindromic sequences\n",
    "            l, r = i, i + 1 # We are going to use two pointers, which will move in opposite directions\n",
    "            while l >= 0 and r < len(array) and array[l] == array[r]:\n",
    "                if (r - l) + 1 > maxLength: # The maxLength is to be constantly updated\n",
    "                    maxLength = (r - l) + 1\n",
    "                l -= 1\n",
    "                r += 1\n",
    "        if maxLength == len(array): # If the maxLength equals to the total length of the array, the given input array \n",
    "            # is a palindrome, so we return True\n",
    "            return True\n",
    "        return False # If these lengths are not equal - we return False\n",
    "    result = verify_pal(values)\n",
    "    return result # The True or False result is finally returned"
   ]
  }
 ],
 "metadata": {
  "kernelspec": {
   "display_name": "Python 3 (ipykernel)",
   "language": "python",
   "name": "python3"
  },
  "language_info": {
   "codemirror_mode": {
    "name": "ipython",
    "version": 3
   },
   "file_extension": ".py",
   "mimetype": "text/x-python",
   "name": "python",
   "nbconvert_exporter": "python",
   "pygments_lexer": "ipython3",
   "version": "3.9.7"
  }
 },
 "nbformat": 4,
 "nbformat_minor": 5
}
