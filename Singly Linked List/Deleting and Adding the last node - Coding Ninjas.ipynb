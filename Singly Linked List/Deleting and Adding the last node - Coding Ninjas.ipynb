{
 "cells": [
  {
   "cell_type": "markdown",
   "id": "1f9f4054",
   "metadata": {},
   "source": [
    "### Deleting and Adding the last node - Coding Ninjas."
   ]
  },
  {
   "cell_type": "code",
   "execution_count": null,
   "id": "d3f69856",
   "metadata": {},
   "outputs": [],
   "source": [
    "\"\"\"\n",
    "You are provided with a singly linked list, all you have to do is to delete the last node of the linked \n",
    "list and add it to the front of the linked list.\n",
    "Please note that the linked list will only contain numeric values.\n",
    "\"\"\"\n",
    "\n",
    "class Node:\n",
    "    def __init__(self, data):\n",
    "        self.data = data\n",
    "        self.next = None\n",
    "\n",
    "def delAddLastNode(head):\n",
    "    if head is None: # If the Singly Linked List is empty - we return None\n",
    "        return head\n",
    "    current = head\n",
    "    if not current.next: # If the Singly Linked List contains only one node - we return the original Singly \n",
    "        # Linked List\n",
    "        return head\n",
    "    # Alternatively, we are going to traverse the Singly Linked List till the end.\n",
    "    while current.next:\n",
    "        prevNode = current\n",
    "        current = current.next\n",
    "    # After that, it is necessary to remove the last node and append it to the front of the Singly Linked List\n",
    "    newNode = current\n",
    "    prevNode.next = None\n",
    "    newNode.next = head\n",
    "    head = newNode\n",
    "    return head # The new Singly Linked List is returned"
   ]
  }
 ],
 "metadata": {
  "kernelspec": {
   "display_name": "Python 3 (ipykernel)",
   "language": "python",
   "name": "python3"
  },
  "language_info": {
   "codemirror_mode": {
    "name": "ipython",
    "version": 3
   },
   "file_extension": ".py",
   "mimetype": "text/x-python",
   "name": "python",
   "nbconvert_exporter": "python",
   "pygments_lexer": "ipython3",
   "version": "3.9.7"
  }
 },
 "nbformat": 4,
 "nbformat_minor": 5
}
