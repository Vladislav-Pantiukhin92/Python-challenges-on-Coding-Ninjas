{
 "cells": [
  {
   "cell_type": "markdown",
   "id": "d20625cf",
   "metadata": {},
   "source": [
    "### Print Reverse LinkedList - Coding Ninjas."
   ]
  },
  {
   "cell_type": "code",
   "execution_count": null,
   "id": "0c4e0569",
   "metadata": {},
   "outputs": [],
   "source": [
    "\"\"\"\n",
    "You have been given a singly linked list of integers. Write a function to print the list in \n",
    "a reverse order. \n",
    "\"\"\"\n",
    "\n",
    "class Node :\n",
    "    def __init__(self, data) :\n",
    "        self.data = data\n",
    "        self.next = None\n",
    "\n",
    "def printReverse(head) :\n",
    "    if head is None: # If the Singly Linked List is empty - we return None\n",
    "        return head\n",
    "    # Alternatively, we need to reverse the structure of the Singly Linked List:\n",
    "    current = head\n",
    "    prevNode = None\n",
    "    while current: # Within the 'while loop', the 'next' pointer is being redirected:\n",
    "        nextNode = current.next\n",
    "        current.next = prevNode\n",
    "        prevNode = current\n",
    "        current = nextNode\n",
    "    head = prevNode\n",
    "    curNode = head\n",
    "    # The final step is to traverse the Singly Linked List once again and print all the nodes's values\n",
    "    # in proper order:\n",
    "    while curNode:\n",
    "        print(curNode.data, end=\" \")\n",
    "        curNode = curNode.next"
   ]
  }
 ],
 "metadata": {
  "kernelspec": {
   "display_name": "Python 3 (ipykernel)",
   "language": "python",
   "name": "python3"
  },
  "language_info": {
   "codemirror_mode": {
    "name": "ipython",
    "version": 3
   },
   "file_extension": ".py",
   "mimetype": "text/x-python",
   "name": "python",
   "nbconvert_exporter": "python",
   "pygments_lexer": "ipython3",
   "version": "3.9.7"
  }
 },
 "nbformat": 4,
 "nbformat_minor": 5
}
