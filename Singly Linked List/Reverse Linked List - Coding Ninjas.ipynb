{
 "cells": [
  {
   "cell_type": "markdown",
   "id": "92ad3e66",
   "metadata": {},
   "source": [
    "### Reverse Linked List - Coding Ninjas."
   ]
  },
  {
   "cell_type": "code",
   "execution_count": null,
   "id": "bad37d90",
   "metadata": {},
   "outputs": [],
   "source": [
    "\"\"\"\n",
    "You are given a Singly Linked List of integers. You need to reverse the Linked List by changing the links \n",
    "between nodes.\n",
    "\"\"\"\n",
    "\n",
    "def reverseLinkedList(head):\n",
    "    if head is None: # If the Singly Linked List is empty - we return None\n",
    "        return head\n",
    "    # Otherwise, let's reverse the structure of the Singly Linked List:\n",
    "    current = head\n",
    "    prevNode = None\n",
    "    while current:\n",
    "        nextNode = current.next # The 'next' pointer is being redirected\n",
    "        current.next = prevNode\n",
    "        prevNode = current\n",
    "        current = nextNode\n",
    "    head = prevNode # The new 'head' is the last node\n",
    "    return head # The Singly Linked List is returned"
   ]
  }
 ],
 "metadata": {
  "kernelspec": {
   "display_name": "Python 3 (ipykernel)",
   "language": "python",
   "name": "python3"
  },
  "language_info": {
   "codemirror_mode": {
    "name": "ipython",
    "version": 3
   },
   "file_extension": ".py",
   "mimetype": "text/x-python",
   "name": "python",
   "nbconvert_exporter": "python",
   "pygments_lexer": "ipython3",
   "version": "3.9.7"
  }
 },
 "nbformat": 4,
 "nbformat_minor": 5
}
