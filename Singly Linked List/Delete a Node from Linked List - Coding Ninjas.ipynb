{
 "cells": [
  {
   "cell_type": "markdown",
   "id": "fe672756",
   "metadata": {},
   "source": [
    "### Delete a Node from Linked List - Coding Ninjas."
   ]
  },
  {
   "cell_type": "code",
   "execution_count": null,
   "id": "c84bb554",
   "metadata": {},
   "outputs": [],
   "source": [
    "\"\"\"\n",
    "You have been given a linked list of integers. Your task is to write a function that deletes a node from \n",
    "a given position, 'POS'.\n",
    "Note :\n",
    "Assume that the Indexing for the linked list always starts from 0.\n",
    "If the position is greater than or equal to the length of the linked list, you should return the same \n",
    "linked list without any change.\n",
    "\"\"\"\n",
    "\n",
    "def deleteNode(head, pos) :\n",
    "    if head is None: # If the Singly Linked List is empty - we return None\n",
    "        return head\n",
    "    # Alternatively, we need to find out the total length of the Singly Linked List:\n",
    "    length = 0\n",
    "    curNode = head\n",
    "    # All the nodes will be counted while the Singly Linked List is traversed:\n",
    "    while curNode:\n",
    "        length += 1\n",
    "        curNode = curNode.next\n",
    "    # If the given input position is equal to or larger than the total length of the Singly Linked List - \n",
    "    # we return the original Singly Linked List without changes\n",
    "    if pos >= length:\n",
    "        return head\n",
    "    if pos == 0: # The case, when we need to remove the first node (the given input position equals to 0)\n",
    "        head = head.next\n",
    "        return head\n",
    "    # Otherwise, we use the traversal again to find the specific node to be removed\n",
    "    current = head\n",
    "    for i in range(1, pos):\n",
    "        current = current.next\n",
    "    current.next = current.next.next\n",
    "    return head # The Singly Linked List after the node's removal is returned"
   ]
  }
 ],
 "metadata": {
  "kernelspec": {
   "display_name": "Python 3 (ipykernel)",
   "language": "python",
   "name": "python3"
  },
  "language_info": {
   "codemirror_mode": {
    "name": "ipython",
    "version": 3
   },
   "file_extension": ".py",
   "mimetype": "text/x-python",
   "name": "python",
   "nbconvert_exporter": "python",
   "pygments_lexer": "ipython3",
   "version": "3.9.7"
  }
 },
 "nbformat": 4,
 "nbformat_minor": 5
}
