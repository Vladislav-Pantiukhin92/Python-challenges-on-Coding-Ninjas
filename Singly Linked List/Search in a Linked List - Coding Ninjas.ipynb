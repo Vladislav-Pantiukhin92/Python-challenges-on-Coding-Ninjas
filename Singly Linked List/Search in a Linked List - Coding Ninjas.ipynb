{
 "cells": [
  {
   "cell_type": "markdown",
   "id": "b05cb020",
   "metadata": {},
   "source": [
    "### Search in a Linked List - Coding Ninjas."
   ]
  },
  {
   "cell_type": "code",
   "execution_count": null,
   "id": "6dcdcf63",
   "metadata": {},
   "outputs": [],
   "source": [
    "\"\"\"\n",
    "You are given a Singly Linked List of integers with a head pointer. Every node of the Linked List has \n",
    "a value written on it.\n",
    "Now you have been given an integer value 'K'. Your task is to check whether a node having a value equal \n",
    "to 'K' exists in the given linked list or not.\n",
    "\"\"\"\n",
    "\n",
    "\n",
    "def searchInLinkedList(head, k):\n",
    "    if head is None: # If the Singly Linked List is empty - we return 0\n",
    "        return 0\n",
    "    current = head\n",
    "    while current: # Alternatively, we are going to traverse the Singly Linked List and compare each node's value \n",
    "        # with the 'k' parameter:\n",
    "        if current.data == k:\n",
    "            return 1 # If the 'k' parameter is found - we return 1\n",
    "        current = current.next\n",
    "    return 0 # Otherwise, we return 0"
   ]
  }
 ],
 "metadata": {
  "kernelspec": {
   "display_name": "Python 3 (ipykernel)",
   "language": "python",
   "name": "python3"
  },
  "language_info": {
   "codemirror_mode": {
    "name": "ipython",
    "version": 3
   },
   "file_extension": ".py",
   "mimetype": "text/x-python",
   "name": "python",
   "nbconvert_exporter": "python",
   "pygments_lexer": "ipython3",
   "version": "3.9.7"
  }
 },
 "nbformat": 4,
 "nbformat_minor": 5
}
