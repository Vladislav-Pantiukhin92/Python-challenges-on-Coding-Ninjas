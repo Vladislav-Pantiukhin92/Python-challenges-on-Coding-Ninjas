{
 "cells": [
  {
   "cell_type": "markdown",
   "id": "eec49b42",
   "metadata": {},
   "source": [
    "### Next Greater Node In Linked List - Coding Ninjas."
   ]
  },
  {
   "cell_type": "code",
   "execution_count": null,
   "id": "bb4f5352",
   "metadata": {},
   "outputs": [],
   "source": [
    "\"\"\"\n",
    "Ninjas are often known for their superhuman strength and valour. In a given set of linked ninja villages \n",
    "of different clans, their strongest ninjas want to know whether there exists a stronger ninja in the \n",
    "nearest village linked ahead of their village in order to be prepared for threats and enemies.\n",
    "You are given the villages in the form of a linked list consisting of N integers each integer \n",
    "representing the strength of the strongest ninja in their village. The head of the linked list would be \n",
    "pointing to the strength of the strongest ninja in the first village (which would be the first node).\n",
    "The nodes in the list can be numbered as \"node 1\", \"node 2\" and so on. Each node may have a next larger \n",
    "value (a village with a stronger ninja)\n",
    "For \"node i\" , next larger(\"node i\") is the \"node j.val\" such that j > i and \"node j.val\" > \"node i.val\" , \n",
    "and j is the smallest possible choice. If such a j does not exist, the next larger value is 0.\n",
    "Note :\n",
    "Your task is to return an array of integers answer, \n",
    "where ans[i] = next_larger(node_{i+1}).\n",
    "\"\"\"\n",
    "\n",
    "'''\n",
    "  ----Linked list Node class for reference-----\n",
    "    class Node:\n",
    "        def __init__(self, data):\n",
    "            self.val = data\n",
    "            self.next = None\n",
    "            \n",
    "'''\n",
    "\n",
    "def findNextGreaterNodeList(head):\n",
    "# First of all, let's extract all the nodes' values and append them to the list container:\n",
    "    nodes_values = []\n",
    "    current = head\n",
    "    while current: # While traversing the Singly Linked List, the nodes' values are extracted\n",
    "        curValue = current.val\n",
    "        nodes_values.append(curValue)\n",
    "        current = current.next\n",
    "    final = [] # It is an empty list, which will store the next greater nodes, if they exist\n",
    "    while nodes_values: # We will verify each element and the existence of the next greater element:\n",
    "        greater = False\n",
    "        curElem = nodes_values.pop(0) # The element is extracted\n",
    "        for i in nodes_values: # Through the 'for loop' we seek the next greater element in the list:\n",
    "            if i > curElem:\n",
    "                greater = True\n",
    "                target = i\n",
    "                break \n",
    "        if greater is True: # If the next greater element is found, it is added to the list\n",
    "            final.append(target)\n",
    "        else:\n",
    "            # If the next greater element is not found, '0' is added to the list\n",
    "            final.append(0)\n",
    "    return final # The list with elements is returned"
   ]
  }
 ],
 "metadata": {
  "kernelspec": {
   "display_name": "Python 3 (ipykernel)",
   "language": "python",
   "name": "python3"
  },
  "language_info": {
   "codemirror_mode": {
    "name": "ipython",
    "version": 3
   },
   "file_extension": ".py",
   "mimetype": "text/x-python",
   "name": "python",
   "nbconvert_exporter": "python",
   "pygments_lexer": "ipython3",
   "version": "3.9.7"
  }
 },
 "nbformat": 4,
 "nbformat_minor": 5
}
