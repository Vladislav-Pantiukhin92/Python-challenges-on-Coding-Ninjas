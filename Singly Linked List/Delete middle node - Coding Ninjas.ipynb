{
 "cells": [
  {
   "cell_type": "markdown",
   "id": "1f8ea67e",
   "metadata": {},
   "source": [
    "### Delete middle node - Coding Ninjas."
   ]
  },
  {
   "cell_type": "code",
   "execution_count": null,
   "id": "683416bd",
   "metadata": {},
   "outputs": [],
   "source": [
    "\"\"\"\n",
    "You have been given a singly Linked List of integers. Your task is to delete the middle node of this List.\n",
    "Note:\n",
    "1. If there is no middle node in the list to delete, return an empty list (i.e. NULL).\n",
    "2. If there are two middle nodes in the list, delete the first one.\n",
    "Follow Up :\n",
    "Try to solve this problem in O(N) time complexity and O(1) space complexity.\n",
    "\n",
    "Can you solve it in only one traversal of the Linked List?\n",
    "\"\"\"\n",
    "\n",
    "class Node:\n",
    "    def __init__(self, data):\n",
    "        self.data = data\n",
    "        self.next = None\n",
    "\n",
    "\n",
    "def deleteMiddle(head):\n",
    "    if head is None: # If the Singly Linked List is empty - we return an empty list\n",
    "        return []\n",
    "    # First of all, we need to calculate the total length of the Singly Linked List:\n",
    "    length = 0 # The initial length equals to 0\n",
    "    current = head\n",
    "    # While traversing the Singly Linked List, we are going to calculate the length\n",
    "    while current:\n",
    "        length += 1\n",
    "        current = current.next\n",
    "    if length % 2 == 0: # The case, when the length is even\n",
    "        middle = length // 2\n",
    "    else: # The case, when the length is odd\n",
    "        middle = length // 2 + 1\n",
    "    count = 1\n",
    "    curNode = head\n",
    "    if count == middle: # The case, when we already deal with the middle element\n",
    "        head = head.next\n",
    "        return head\n",
    "    # Otherwise, we are going to traverse the Singly Linked List, while the middle node is not attained. \n",
    "    # After that, we are going to delete it, and return the changed Singly Linked List\n",
    "    while count != middle:\n",
    "        prevNode = curNode\n",
    "        curNode = curNode.next\n",
    "        count += 1\n",
    "    prevNode.next = curNode.next\n",
    "    return head"
   ]
  }
 ],
 "metadata": {
  "kernelspec": {
   "display_name": "Python 3 (ipykernel)",
   "language": "python",
   "name": "python3"
  },
  "language_info": {
   "codemirror_mode": {
    "name": "ipython",
    "version": 3
   },
   "file_extension": ".py",
   "mimetype": "text/x-python",
   "name": "python",
   "nbconvert_exporter": "python",
   "pygments_lexer": "ipython3",
   "version": "3.9.7"
  }
 },
 "nbformat": 4,
 "nbformat_minor": 5
}
