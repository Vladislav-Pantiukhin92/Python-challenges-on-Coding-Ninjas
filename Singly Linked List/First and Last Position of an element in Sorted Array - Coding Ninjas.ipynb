{
 "cells": [
  {
   "cell_type": "markdown",
   "id": "3daca7b0",
   "metadata": {},
   "source": [
    "### First and Last Position of an element in Sorted Array - Coding Ninjas."
   ]
  },
  {
   "cell_type": "code",
   "execution_count": null,
   "id": "28c6fe91",
   "metadata": {},
   "outputs": [],
   "source": [
    "\"\"\"\n",
    "Given the head node of the singly linked list, return a pointer pointing to the middle of the linked list.\n",
    "If there are an odd number of elements, return the middle element if there are even elements return the \n",
    "one which is farther from the head node.\n",
    "For example, let the linked list be 1->2->3->4->null\n",
    "\n",
    "Since the number of elements in this linked list is 4 so we have 2 middle elements, i.e. 2 and 3, \n",
    "but we return 3 as it is farther from the head node, i.e. 1.\n",
    "\"\"\"\n",
    "\n",
    "from os import *\n",
    "from sys import *\n",
    "from collections import *\n",
    "from math import *\n",
    "\n",
    "'''\n",
    "\n",
    "    class Node:\n",
    "        def __init__(self, data):\n",
    "            self.data = data\n",
    "            self.next = None\n",
    "\n",
    "'''\n",
    "\n",
    "def findMiddle(head): # First of all, we need to identify the length of the Singly Linked List:\n",
    "    current = head\n",
    "    length = 0 # The initial length of the Singly Linked List equals to 0\n",
    "    while current: # During the traversal, we are going to count nodes\n",
    "        length += 1\n",
    "        current = current.next\n",
    "    middle = length // 2 + 1 # Knowing the length of the Singly Linked List, it is high time to calculate the \n",
    "    # middle location\n",
    "    curNode = head\n",
    "    count = 1\n",
    "    # Finally, we are going to traverse the Singly Linked List once again to attain the middle node and return it\n",
    "    while count != middle:\n",
    "        curNode = curNode.next\n",
    "        count += 1\n",
    "    return curNode # The middle node is returned\n"
   ]
  }
 ],
 "metadata": {
  "kernelspec": {
   "display_name": "Python 3 (ipykernel)",
   "language": "python",
   "name": "python3"
  },
  "language_info": {
   "codemirror_mode": {
    "name": "ipython",
    "version": 3
   },
   "file_extension": ".py",
   "mimetype": "text/x-python",
   "name": "python",
   "nbconvert_exporter": "python",
   "pygments_lexer": "ipython3",
   "version": "3.9.7"
  }
 },
 "nbformat": 4,
 "nbformat_minor": 5
}
