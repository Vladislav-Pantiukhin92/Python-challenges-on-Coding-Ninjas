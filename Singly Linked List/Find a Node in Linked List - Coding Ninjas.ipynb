{
 "cells": [
  {
   "cell_type": "markdown",
   "id": "23d78e3b",
   "metadata": {},
   "source": [
    "### Find a Node in Linked List - Coding Ninjas."
   ]
  },
  {
   "cell_type": "code",
   "execution_count": null,
   "id": "9cebfef5",
   "metadata": {},
   "outputs": [],
   "source": [
    "\"\"\"\n",
    "You have been given a singly linked list of integers. Write a function that returns the index/position \n",
    "of integer data denoted by 'N' (if it exists). Return -1 otherwise.\n",
    "Note :\n",
    "Assume that the Indexing for the singly linked list always starts from 0.\n",
    "\"\"\"\n",
    "\n",
    "class Node :\n",
    "    def __init__(self, data) :\n",
    "        self.data = data\n",
    "        self.next = None\n",
    "\n",
    "def findNode(head, n) :\n",
    "    if head is None: # If the Singly Linked List is empty - we return -1\n",
    "        return -1\n",
    "    count = 0 # The initial index position equals to 0\n",
    "    current = head\n",
    "    # Below is the traversal of the Singly Linked List:\n",
    "    while current:\n",
    "        if current.data == n: # If the node's value == the 'n' parameter - we return the counted index position\n",
    "            return count\n",
    "        current = current.next\n",
    "        count += 1\n",
    "    return -1 # If the 'n' parameter wasn't found within the Singly Linked List - we return -1"
   ]
  }
 ],
 "metadata": {
  "kernelspec": {
   "display_name": "Python 3 (ipykernel)",
   "language": "python",
   "name": "python3"
  },
  "language_info": {
   "codemirror_mode": {
    "name": "ipython",
    "version": 3
   },
   "file_extension": ".py",
   "mimetype": "text/x-python",
   "name": "python",
   "nbconvert_exporter": "python",
   "pygments_lexer": "ipython3",
   "version": "3.9.7"
  }
 },
 "nbformat": 4,
 "nbformat_minor": 5
}
