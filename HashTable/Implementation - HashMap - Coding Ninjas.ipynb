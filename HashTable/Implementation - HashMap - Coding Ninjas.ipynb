{
 "cells": [
  {
   "cell_type": "markdown",
   "id": "0160da9c",
   "metadata": {},
   "source": [
    "### Implementation: HashMap - Coding Ninjas."
   ]
  },
  {
   "cell_type": "code",
   "execution_count": null,
   "id": "df0cec6e",
   "metadata": {},
   "outputs": [],
   "source": [
    "\"\"\"\n",
    "Design a data structure that stores a mapping of a key to a given value and supports the following \n",
    "operations in constant time.\n",
    "\"\"\"\n",
    "\n",
    "class myHashMap :\n",
    "\n",
    "    def __init__(self) : # Constructor\n",
    "        self.hashTable = {} # An empty hashTable - dictionary\n",
    "        \n",
    "    def get(self, key) : # We are going to generate the hash_address\n",
    "        h = \"\"\n",
    "        for i in key:\n",
    "            h += str(ord(i))\n",
    "        if h not in self.hashTable: # If the hash_address doesn't exist within the hashTable - we return -1\n",
    "            return -1\n",
    "        return self.hashTable[h] # Alternatively, we return the corresponding value\n",
    "    \n",
    "    def insert(self, key, value) : # The key-value pair is inserted\n",
    "        h = \"\" # Again the hash_address is generated\n",
    "        for i in key:\n",
    "            h += str(ord(i))\n",
    "        self.hashTable[h] = value # Finally, we either add the key-value pair or update the corresponding value\n",
    "      \n",
    "    def remove(self, key) : # Here we are going to remove the relevant key-value pair\n",
    "        h = \"\" # The hash_address is generated\n",
    "        for i in key:\n",
    "            h += str(ord(i))\n",
    "        if h in self.hashTable: # In case of its existence within the hashTable, the dictionary 'del' method \n",
    "            # is used to delete the key-value pair\n",
    "            del self.hashTable[h]\n",
    "                \n",
    "    def search(self, key) : # Verification of the key's existence within the hashTable/dictionary\n",
    "        h = \"\" # The hash_address is generated\n",
    "        for i in key:\n",
    "            h += str(ord(i))\n",
    "        if h in self.hashTable: # If the key exists - we return True\n",
    "            return True\n",
    "        return False # Otherwise, we return False\n",
    "\n",
    "\n",
    "    def getSize(self) : # The size is the length of the hashTable/dictionary\n",
    "        return len(self.hashTable)\n",
    "    \n",
    "    def isEmpty(self) : # If the length of the hashTable/dictionary is 0, we return True. Alternatively, we \n",
    "        # return False\n",
    "        return len(self.hashTable) == 0"
   ]
  }
 ],
 "metadata": {
  "kernelspec": {
   "display_name": "Python 3 (ipykernel)",
   "language": "python",
   "name": "python3"
  },
  "language_info": {
   "codemirror_mode": {
    "name": "ipython",
    "version": 3
   },
   "file_extension": ".py",
   "mimetype": "text/x-python",
   "name": "python",
   "nbconvert_exporter": "python",
   "pygments_lexer": "ipython3",
   "version": "3.9.7"
  }
 },
 "nbformat": 4,
 "nbformat_minor": 5
}
