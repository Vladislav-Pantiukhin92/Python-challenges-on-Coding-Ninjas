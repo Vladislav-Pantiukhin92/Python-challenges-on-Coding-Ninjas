{
 "cells": [
  {
   "cell_type": "markdown",
   "id": "25e2e7b8",
   "metadata": {},
   "source": [
    "### Maximum Frequency Number - Coding Ninjas."
   ]
  },
  {
   "cell_type": "code",
   "execution_count": 19,
   "id": "2f0ca853",
   "metadata": {},
   "outputs": [
    {
     "data": {
      "text/plain": [
       "1"
      ]
     },
     "execution_count": 19,
     "metadata": {},
     "output_type": "execute_result"
    }
   ],
   "source": [
    "\"\"\"\n",
    "Ninja is given an array of integers that contain numbers in random order. He needs to write a program to \n",
    "find and return the number which occurs the maximum times in the given input. He needs your help to solve \n",
    "this problem.\n",
    "If two or more elements contend for the maximum frequency, return the element which occurs in the array \n",
    "first i.e. whose index is lowest.\n",
    "For example,\n",
    "For 'arr' = [ 1, 2, 3, 1, 2]. you need to return 1.\n",
    "\"\"\"\n",
    "\n",
    "from collections import Counter # 'collections.Counter' is to be aimed at counting the occurrence of elements\n",
    "# within the given input list\n",
    "from operator import * # 'operator.eq' will compare values. If these values are equal - we return True, \n",
    "# alternatively we return False\n",
    "\n",
    "def maximumFrequency(arr, n):\n",
    "    occurrenceDict = dict(Counter(arr)) # The occurrence dictionary is created\n",
    "# The next step is to find the maxOccurrence within the given input list:\n",
    "    maxOccurrence = -float(\"inf\") # The initial maxOccurrence value\n",
    "    for i in occurrenceDict: # Through the 'for loop' the maxOccurrence value is constantly updated\n",
    "        maxOccurrence = max(maxOccurrence, occurrenceDict[i])\n",
    "# We obtained the maxOccurrence, finally we need to find the first element with the envisaged maxOccurrence:\n",
    "    for j in arr:\n",
    "        if eq(occurrenceDict[j], maxOccurrence):\n",
    "            return j\n",
    "        \n",
    "maximumFrequency([1,2,3,1,2], 5)"
   ]
  }
 ],
 "metadata": {
  "kernelspec": {
   "display_name": "Python 3 (ipykernel)",
   "language": "python",
   "name": "python3"
  },
  "language_info": {
   "codemirror_mode": {
    "name": "ipython",
    "version": 3
   },
   "file_extension": ".py",
   "mimetype": "text/x-python",
   "name": "python",
   "nbconvert_exporter": "python",
   "pygments_lexer": "ipython3",
   "version": "3.9.7"
  }
 },
 "nbformat": 4,
 "nbformat_minor": 5
}
