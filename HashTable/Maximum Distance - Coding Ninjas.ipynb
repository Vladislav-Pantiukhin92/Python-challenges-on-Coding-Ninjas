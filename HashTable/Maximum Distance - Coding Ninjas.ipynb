{
 "cells": [
  {
   "cell_type": "markdown",
   "id": "00371624",
   "metadata": {},
   "source": [
    "### Maximum Distance - Coding Ninjas."
   ]
  },
  {
   "cell_type": "code",
   "execution_count": 25,
   "id": "6f470db3",
   "metadata": {},
   "outputs": [
    {
     "data": {
      "text/plain": [
       "4"
      ]
     },
     "execution_count": 25,
     "metadata": {},
     "output_type": "execute_result"
    }
   ],
   "source": [
    "from sys import stdin\n",
    "from operator import * # 'operator.sub' will be used for executing the index subtraction\n",
    "\n",
    "def maximumDistance(arr):\n",
    "    try:\n",
    "        myDict = {} # The dictionary, where keys are elements and values are the lists with indices \n",
    "        # of these keys\n",
    "        for i, j in enumerate(arr): # The 'enumerate' function will help to find and store index locations \n",
    "            # of elements within the given input array\n",
    "            if j not in myDict:\n",
    "                myDict[j] = [i]\n",
    "            else:\n",
    "                myDict[j].append(i)\n",
    "        maxDistance = 0 # The initial maxDistance equals to 0\n",
    "        # The final step is to loop over the dictionary values (lists) and find the maxDifference (meaning that \n",
    "        # the last element - the first element):\n",
    "        for i in myDict:\n",
    "            if len(myDict[i]) > 1:\n",
    "                curSlice = myDict[i]\n",
    "                # If necessary, the maxDistance is updated\n",
    "                maxDistance = max(maxDistance, sub(curSlice[-1], curSlice[0]))\n",
    "        return maxDistance # The final maxDistance is returned\n",
    "    except ValueError:\n",
    "        return 0\n",
    "    \n",
    "maximumDistance([0,1,-1,1,0,1])    "
   ]
  }
 ],
 "metadata": {
  "kernelspec": {
   "display_name": "Python 3 (ipykernel)",
   "language": "python",
   "name": "python3"
  },
  "language_info": {
   "codemirror_mode": {
    "name": "ipython",
    "version": 3
   },
   "file_extension": ".py",
   "mimetype": "text/x-python",
   "name": "python",
   "nbconvert_exporter": "python",
   "pygments_lexer": "ipython3",
   "version": "3.9.7"
  }
 },
 "nbformat": 4,
 "nbformat_minor": 5
}
