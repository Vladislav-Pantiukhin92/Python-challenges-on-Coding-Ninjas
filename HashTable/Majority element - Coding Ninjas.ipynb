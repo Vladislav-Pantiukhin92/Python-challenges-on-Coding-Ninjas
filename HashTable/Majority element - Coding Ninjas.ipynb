{
 "cells": [
  {
   "cell_type": "markdown",
   "id": "50339fc0",
   "metadata": {},
   "source": [
    "### Majority element - Coding Ninjas."
   ]
  },
  {
   "cell_type": "code",
   "execution_count": 17,
   "id": "8e1cf263",
   "metadata": {},
   "outputs": [
    {
     "data": {
      "text/plain": [
       "20"
      ]
     },
     "execution_count": 17,
     "metadata": {},
     "output_type": "execute_result"
    }
   ],
   "source": [
    "\"\"\"\n",
    "You have been given an array/list 'ARR' consisting of 'N' integers. Your task is to find the majority \n",
    "element in the array. If there is no majority element present, print -1.\n",
    "Note:\n",
    "A majority element is an element that occurs more than floor('N' / 2) times in the array.\n",
    "\"\"\"\n",
    "\n",
    "\n",
    "from os import *\n",
    "from sys import *\n",
    "from collections import *\n",
    "from math import *\n",
    "\n",
    "def findMajorityElement(arr, n):\n",
    "    occurrence = floor(n / 2) # Let's determine the target occurrence rate/threshold\n",
    "    myDict = {} # The occurrence will be counted within the dictionary structure\n",
    "    for i in arr:\n",
    "        if i not in myDict:\n",
    "            myDict[i] = 1 # If an element is a new one - it is added with the initial occurrence == 1\n",
    "        else:\n",
    "            myDict[i] += 1 # If an element is an old one - the occurrence is increased by 1\n",
    "        if myDict[i] > occurrence: # If the occurrence of an element > the set threshold - we return this element\n",
    "            return i\n",
    "    return -1 # Otherwise, we return -1, if no element attained such an occurrence\n",
    "\n",
    "findMajorityElement([20,20,20,4,5,20,1,20,4,20], 10)"
   ]
  }
 ],
 "metadata": {
  "kernelspec": {
   "display_name": "Python 3 (ipykernel)",
   "language": "python",
   "name": "python3"
  },
  "language_info": {
   "codemirror_mode": {
    "name": "ipython",
    "version": 3
   },
   "file_extension": ".py",
   "mimetype": "text/x-python",
   "name": "python",
   "nbconvert_exporter": "python",
   "pygments_lexer": "ipython3",
   "version": "3.9.7"
  }
 },
 "nbformat": 4,
 "nbformat_minor": 5
}
