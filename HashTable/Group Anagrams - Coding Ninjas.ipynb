{
 "cells": [
  {
   "cell_type": "markdown",
   "id": "fef9a5d5",
   "metadata": {},
   "source": [
    "### Group Anagrams - Coding Ninjas."
   ]
  },
  {
   "cell_type": "code",
   "execution_count": 24,
   "id": "3afa69c0",
   "metadata": {},
   "outputs": [],
   "source": [
    "\"\"\"\n",
    "You have been given an array/list of strings 'inputStr'. You are supposed to return the strings as \n",
    "groups of anagrams such that strings belonging to a particular group are anagrams of one another.\n",
    "Note :\n",
    "An Anagram is a word or phrase formed by rearranging the letters of a different word or phrase. We can \n",
    "generalize this in string processing by saying that an anagram of a string is another string with the \n",
    "same quantity of each character in it, in any order.\n",
    "Example:\n",
    "{ “abc”, “ged”, “dge”, “bac” } \n",
    "In the above example the array should be divided into 2 groups. The first group consists of \n",
    "{ “abc”, “bac” } and the second group consists of { “ged”, “dge” }.\n",
    "\"\"\"\n",
    "\n",
    "\n",
    "def getGroupedAnagrams(inputStr):\n",
    "    split_string = inputStr\n",
    "    dict_container = [] # It is the list container, which will store different dictionary configurations\n",
    "    for i in split_string:\n",
    "        # Different dictionary configurations are added to the dict_container\n",
    "        dictElem = dict(Counter(i))\n",
    "        if dictElem not in dict_container:\n",
    "            dict_container.append(dictElem)\n",
    "    # We need to generate another list, which will store groups of anagrams:\n",
    "    final = [[] for _ in range(len(dict_container))]\n",
    "    i = 0\n",
    "    # Through the 'while loop' iterations, we are going to take each dictionary configuration and create, \n",
    "    # while comparing, all the anagrams' groups:\n",
    "    while i < len(dict_container):\n",
    "        curDict = dict_container[i]\n",
    "        for j in split_string:\n",
    "            config = dict(Counter(j))\n",
    "            if eq(curDict, config):\n",
    "                final[i].append(j)\n",
    "        i += 1\n",
    "    # The groups of anagrams should be sorted and merged as string chunks:\n",
    "    final = list(map(lambda x: \" \".join(sorted(x)), final))\n",
    "    return \"\\n\".join(final) # The final string with '\\n' is returned\n"
   ]
  }
 ],
 "metadata": {
  "kernelspec": {
   "display_name": "Python 3 (ipykernel)",
   "language": "python",
   "name": "python3"
  },
  "language_info": {
   "codemirror_mode": {
    "name": "ipython",
    "version": 3
   },
   "file_extension": ".py",
   "mimetype": "text/x-python",
   "name": "python",
   "nbconvert_exporter": "python",
   "pygments_lexer": "ipython3",
   "version": "3.9.7"
  }
 },
 "nbformat": 4,
 "nbformat_minor": 5
}
