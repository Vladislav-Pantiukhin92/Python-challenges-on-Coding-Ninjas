{
 "cells": [
  {
   "cell_type": "markdown",
   "id": "2f2e1629",
   "metadata": {},
   "source": [
    "### Find Duplicate in Array - Coding Ninjas."
   ]
  },
  {
   "cell_type": "code",
   "execution_count": null,
   "id": "6e739b89",
   "metadata": {},
   "outputs": [],
   "source": [
    "\"\"\"\n",
    "You are given an array ‘ARR’ of size ‘N’ containing each number between 1 and ‘N’ - 1 at least once. \n",
    "There is a single integer value that is present in the array twice. Your task is to find the duplicate \n",
    "integer value present in the array.\n",
    "For example:\n",
    "Consider ARR = [1, 2, 3, 4, 4], the duplicate integer value present in the array is 4. Hence, \n",
    "the answer is 4 in this case.\n",
    "Note :\n",
    "A duplicate number is always present in the given array.\n",
    "Input Format:\n",
    "The first line of the input contains an integer, 'T,’ denoting the number of test cases.\n",
    "The first line of each test case contains a single integer, 'N', denoting the number of elements in the array.\n",
    "The second line of each test case contains 'N' space-separated integers denoting the elements of the array 'ARR'.\n",
    "Output Format:\n",
    "For each test case, print a single integer - the duplicate element in the array.\n",
    "Print the output of each test case in a separate line.\n",
    "\"\"\"\n",
    "\n",
    "# The problem can be solved through the implementation of the HashTable structure\n",
    "\n",
    "def findDuplicate(arr:list, n:int):\n",
    "    hashTable = [None] * n # The HashTable structure will be initially filled with None values\n",
    "    for i in arr: # If the value is None, we replace the None value with the 'i' element from the given input \n",
    "        # list\n",
    "        if hashTable[i] is None:\n",
    "            hashTable[i] = i \n",
    "        else: # If the value is not None, we return the element\n",
    "            return i"
   ]
  }
 ],
 "metadata": {
  "kernelspec": {
   "display_name": "Python 3 (ipykernel)",
   "language": "python",
   "name": "python3"
  },
  "language_info": {
   "codemirror_mode": {
    "name": "ipython",
    "version": 3
   },
   "file_extension": ".py",
   "mimetype": "text/x-python",
   "name": "python",
   "nbconvert_exporter": "python",
   "pygments_lexer": "ipython3",
   "version": "3.9.7"
  }
 },
 "nbformat": 4,
 "nbformat_minor": 5
}
